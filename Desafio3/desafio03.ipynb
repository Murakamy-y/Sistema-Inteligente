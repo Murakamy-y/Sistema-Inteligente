{
 "cells": [
  {
   "cell_type": "code",
   "execution_count": 19,
   "metadata": {},
   "outputs": [],
   "source": [
    "import os\n",
    "import librosa\n",
    "import numpy as np"
   ]
  },
  {
   "cell_type": "code",
   "execution_count": 190,
   "metadata": {},
   "outputs": [],
   "source": [
    "path = \"C:/Users/ridan/Documents/2022.1/Sistema-Inteligente/Desafio3/dataset/\"\n",
    "\n",
    "DATASET_PATH = os.path.join( path, 'train')\n",
    "DATASET_PATH2 = os.path.join( path, 'test')\n",
    "\n",
    "categories = ['cat', 'dog']\n"
   ]
  },
  {
   "cell_type": "markdown",
   "metadata": {},
   "source": [
    "### 2. Pré-processamento"
   ]
  },
  {
   "cell_type": "code",
   "execution_count": 194,
   "metadata": {},
   "outputs": [
    {
     "name": "stdout",
     "output_type": "stream",
     "text": [
      "85\n",
      "C:/Users/ridan/Documents/2022.1/Sistema-Inteligente/Desafio3/dataset/train/cat\n",
      "85\n",
      "C:/Users/ridan/Documents/2022.1/Sistema-Inteligente/Desafio3/dataset/train/dog\n"
     ]
    }
   ],
   "source": [
    "audioPaths = []\n",
    "for k, category in enumerate(categories):\n",
    "    print(cont)\n",
    "    cont = 0\n",
    "    path_category = os.path.join(DATASET_PATH + '/' + category)\n",
    "    print(path_category)\n",
    "    for f in os.listdir(path_category):\n",
    "        if cont < 85:\n",
    "            cont += 1\n",
    "            audioPaths.append([os.path.join(path_category + '/' + f), k]) # k=0 : 'cat', k=1 : 'dog',"
   ]
  },
  {
   "cell_type": "code",
   "execution_count": 195,
   "metadata": {},
   "outputs": [
    {
     "name": "stdout",
     "output_type": "stream",
     "text": [
      "170\n",
      "['C:/Users/ridan/Documents/2022.1/Sistema-Inteligente/Desafio3/dataset/train/cat/cat_1.wav', 0]\n"
     ]
    }
   ],
   "source": [
    "print(len(audioPaths))\n",
    "print(audioPaths[0])"
   ]
  },
  {
   "cell_type": "code",
   "execution_count": 196,
   "metadata": {},
   "outputs": [
    {
     "name": "stderr",
     "output_type": "stream",
     "text": [
      "C:\\Users\\ridan\\AppData\\Local\\Temp\\ipykernel_9084\\1170457339.py:6: VisibleDeprecationWarning: Creating an ndarray from ragged nested sequences (which is a list-or-tuple of lists-or-tuples-or ndarrays with different lengths or shapes) is deprecated. If you meant to do this, you must specify 'dtype=object' when creating the ndarray.\n",
      "  audio, sr = np.array(librosa.load(str(audioPath[0]), dtype='float64'))\n"
     ]
    }
   ],
   "source": [
    "dataset = []\n",
    "srs = []\n",
    "label = []\n",
    "for audioPath in audioPaths:\n",
    "    # print(str(audioPath)[1:-1])\n",
    "    audio, sr = np.array(librosa.load(str(audioPath[0]), dtype='float64'))\n",
    "    srs.append(sr)\n",
    "    dataset.append(audio)\n",
    "\n",
    "    labels = audioPath[1]\n",
    "    label.append(labels)\n",
    "\n"
   ]
  },
  {
   "cell_type": "code",
   "execution_count": 197,
   "metadata": {},
   "outputs": [
    {
     "name": "stdout",
     "output_type": "stream",
     "text": [
      "[ 0.00378169  0.00403648  0.00164025 ... -0.01496191 -0.01767992\n",
      " -0.01192114]\n",
      "22050\n"
     ]
    }
   ],
   "source": [
    "# X_train = np.array(dataset, dtype=\"float\") / 255.0\n",
    "print(dataset[0])\n",
    "print(srs[0])\n",
    "# y = np.asarray(dataset, dtype=np.float64)\n"
   ]
  },
  {
   "cell_type": "code",
   "execution_count": 198,
   "metadata": {},
   "outputs": [
    {
     "name": "stdout",
     "output_type": "stream",
     "text": [
      "[ 0.00378169  0.00403648  0.00164025 ... -0.01496191 -0.01767992\n",
      " -0.01192114]\n",
      "[-0.00026485 -0.00011439  0.0001829  ... -0.0014711  -0.00234424\n",
      "  0.        ]\n",
      "[-0.0075894  -0.00924813 -0.00750379 ...  0.00456818  0.00502733\n",
      "  0.        ]\n",
      "[-0.00222097 -0.00378688 -0.00508926 ... -0.07243794 -0.09152641\n",
      " -0.0616256 ]\n",
      "[-0.00599142 -0.00420189  0.00174694 ... -0.03024398 -0.00672164\n",
      "  0.00543846]\n"
     ]
    },
    {
     "name": "stderr",
     "output_type": "stream",
     "text": [
      "C:\\Users\\ridan\\AppData\\Local\\Temp\\ipykernel_9084\\170026684.py:4: FutureWarning: Pass y=[ 0.00378169  0.00403648  0.00164025 ... -0.01496191 -0.01767992\n",
      " -0.01192114] as keyword args. From version 0.10 passing these as positional arguments will result in an error\n",
      "  s = librosa.feature.mfcc(x)\n",
      "C:\\Users\\ridan\\AppData\\Local\\Temp\\ipykernel_9084\\170026684.py:4: FutureWarning: Pass y=[-0.00026485 -0.00011439  0.0001829  ... -0.0014711  -0.00234424\n",
      "  0.        ] as keyword args. From version 0.10 passing these as positional arguments will result in an error\n",
      "  s = librosa.feature.mfcc(x)\n",
      "C:\\Users\\ridan\\AppData\\Local\\Temp\\ipykernel_9084\\170026684.py:4: FutureWarning: Pass y=[-0.0075894  -0.00924813 -0.00750379 ...  0.00456818  0.00502733\n",
      "  0.        ] as keyword args. From version 0.10 passing these as positional arguments will result in an error\n",
      "  s = librosa.feature.mfcc(x)\n",
      "C:\\Users\\ridan\\AppData\\Local\\Temp\\ipykernel_9084\\170026684.py:4: FutureWarning: Pass y=[-0.00222097 -0.00378688 -0.00508926 ... -0.07243794 -0.09152641\n",
      " -0.0616256 ] as keyword args. From version 0.10 passing these as positional arguments will result in an error\n",
      "  s = librosa.feature.mfcc(x)\n",
      "C:\\Users\\ridan\\AppData\\Local\\Temp\\ipykernel_9084\\170026684.py:4: FutureWarning: Pass y=[-0.00599142 -0.00420189  0.00174694 ... -0.03024398 -0.00672164\n",
      "  0.00543846] as keyword args. From version 0.10 passing these as positional arguments will result in an error\n",
      "  s = librosa.feature.mfcc(x)\n"
     ]
    },
    {
     "name": "stdout",
     "output_type": "stream",
     "text": [
      "[-0.0793769  -0.08346965 -0.0590552  ... -0.04904257 -0.04799954\n",
      " -0.02957147]\n",
      "[-0.00103914 -0.00119639 -0.00201782 ...  0.02294945  0.02654263\n",
      "  0.01543463]\n",
      "[0.14293926 0.13802704 0.04306296 ... 0.00414822 0.00770545 0.00551274]\n",
      "[0.02016214 0.02277346 0.01817682 ... 0.02549744 0.01711695 0.00825995]\n",
      "[-0.02824994 -0.03246821 -0.02671044 ...  0.00049     0.0003944\n",
      "  0.        ]\n"
     ]
    },
    {
     "name": "stderr",
     "output_type": "stream",
     "text": [
      "C:\\Users\\ridan\\AppData\\Local\\Temp\\ipykernel_9084\\170026684.py:4: FutureWarning: Pass y=[-0.0793769  -0.08346965 -0.0590552  ... -0.04904257 -0.04799954\n",
      " -0.02957147] as keyword args. From version 0.10 passing these as positional arguments will result in an error\n",
      "  s = librosa.feature.mfcc(x)\n",
      "C:\\Users\\ridan\\AppData\\Local\\Temp\\ipykernel_9084\\170026684.py:4: FutureWarning: Pass y=[-0.00103914 -0.00119639 -0.00201782 ...  0.02294945  0.02654263\n",
      "  0.01543463] as keyword args. From version 0.10 passing these as positional arguments will result in an error\n",
      "  s = librosa.feature.mfcc(x)\n",
      "C:\\Users\\ridan\\AppData\\Local\\Temp\\ipykernel_9084\\170026684.py:4: FutureWarning: Pass y=[0.14293926 0.13802704 0.04306296 ... 0.00414822 0.00770545 0.00551274] as keyword args. From version 0.10 passing these as positional arguments will result in an error\n",
      "  s = librosa.feature.mfcc(x)\n",
      "C:\\Users\\ridan\\AppData\\Local\\Temp\\ipykernel_9084\\170026684.py:4: FutureWarning: Pass y=[0.02016214 0.02277346 0.01817682 ... 0.02549744 0.01711695 0.00825995] as keyword args. From version 0.10 passing these as positional arguments will result in an error\n",
      "  s = librosa.feature.mfcc(x)\n",
      "C:\\Users\\ridan\\AppData\\Local\\Temp\\ipykernel_9084\\170026684.py:4: FutureWarning: Pass y=[-0.02824994 -0.03246821 -0.02671044 ...  0.00049     0.0003944\n",
      "  0.        ] as keyword args. From version 0.10 passing these as positional arguments will result in an error\n",
      "  s = librosa.feature.mfcc(x)\n"
     ]
    },
    {
     "name": "stdout",
     "output_type": "stream",
     "text": [
      "[ 0.          0.          0.         ... -0.03783056 -0.04249575\n",
      "  0.        ]\n",
      "[ 0.          0.          0.         ... -0.01417847 -0.01249089\n",
      " -0.00763225]\n",
      "[ 1.24843585e-02  1.38351518e-02  9.86151241e-03 ... -5.05763917e-05\n",
      " -2.14002936e-04  0.00000000e+00]\n",
      "[0. 0. 0. ... 0. 0. 0.]\n",
      "[-8.92698952e-05 -6.73182428e-05  2.20502467e-05 ... -1.75098826e-02\n",
      " -1.05485753e-02 -3.32078331e-03]\n",
      "[-0.00622995 -0.00664506 -0.00450585 ...  0.00284977  0.004121\n",
      "  0.00292941]\n"
     ]
    },
    {
     "name": "stderr",
     "output_type": "stream",
     "text": [
      "C:\\Users\\ridan\\AppData\\Local\\Temp\\ipykernel_9084\\170026684.py:4: FutureWarning: Pass y=[ 0.          0.          0.         ... -0.03783056 -0.04249575\n",
      "  0.        ] as keyword args. From version 0.10 passing these as positional arguments will result in an error\n",
      "  s = librosa.feature.mfcc(x)\n",
      "C:\\Users\\ridan\\AppData\\Local\\Temp\\ipykernel_9084\\170026684.py:4: FutureWarning: Pass y=[ 0.          0.          0.         ... -0.01417847 -0.01249089\n",
      " -0.00763225] as keyword args. From version 0.10 passing these as positional arguments will result in an error\n",
      "  s = librosa.feature.mfcc(x)\n",
      "C:\\Users\\ridan\\AppData\\Local\\Temp\\ipykernel_9084\\170026684.py:4: FutureWarning: Pass y=[ 1.24843585e-02  1.38351518e-02  9.86151241e-03 ... -5.05763917e-05\n",
      " -2.14002936e-04  0.00000000e+00] as keyword args. From version 0.10 passing these as positional arguments will result in an error\n",
      "  s = librosa.feature.mfcc(x)\n",
      "C:\\Users\\ridan\\AppData\\Local\\Temp\\ipykernel_9084\\170026684.py:4: FutureWarning: Pass y=[0. 0. 0. ... 0. 0. 0.] as keyword args. From version 0.10 passing these as positional arguments will result in an error\n",
      "  s = librosa.feature.mfcc(x)\n",
      "C:\\Users\\ridan\\AppData\\Local\\Temp\\ipykernel_9084\\170026684.py:4: FutureWarning: Pass y=[-8.92698952e-05 -6.73182428e-05  2.20502467e-05 ... -1.75098826e-02\n",
      " -1.05485753e-02 -3.32078331e-03] as keyword args. From version 0.10 passing these as positional arguments will result in an error\n",
      "  s = librosa.feature.mfcc(x)\n",
      "C:\\Users\\ridan\\AppData\\Local\\Temp\\ipykernel_9084\\170026684.py:4: FutureWarning: Pass y=[-0.00622995 -0.00664506 -0.00450585 ...  0.00284977  0.004121\n",
      "  0.00292941] as keyword args. From version 0.10 passing these as positional arguments will result in an error\n",
      "  s = librosa.feature.mfcc(x)\n"
     ]
    },
    {
     "name": "stdout",
     "output_type": "stream",
     "text": [
      "[ 0.00259993  0.00520213  0.0044107  ... -0.00675696 -0.00436878\n",
      " -0.00155708]\n",
      "[0.00290014 0.00409537 0.00493656 ... 0.01993757 0.02242284 0.        ]\n",
      "[-0.0059476  -0.00635371 -0.00426234 ... -0.01342075 -0.0170427\n",
      " -0.01172842]\n",
      "[-7.36732838e-03 -8.63958029e-03 -7.22281237e-03 ... -2.97764054e-04\n",
      " -2.42851917e-05  0.00000000e+00]\n",
      "[ 0.          0.          0.         ... -0.00193449 -0.00270089\n",
      "  0.        ]\n",
      "[ 0.          0.          0.         ... -0.0114933  -0.00615098\n",
      "  0.        ]\n",
      "[0.         0.         0.         ... 0.02203457 0.00487294 0.        ]\n",
      "[0.         0.         0.         ... 0.00253885 0.00411031 0.00319516]\n"
     ]
    },
    {
     "name": "stderr",
     "output_type": "stream",
     "text": [
      "C:\\Users\\ridan\\AppData\\Local\\Temp\\ipykernel_9084\\170026684.py:4: FutureWarning: Pass y=[ 0.00259993  0.00520213  0.0044107  ... -0.00675696 -0.00436878\n",
      " -0.00155708] as keyword args. From version 0.10 passing these as positional arguments will result in an error\n",
      "  s = librosa.feature.mfcc(x)\n",
      "C:\\Users\\ridan\\AppData\\Local\\Temp\\ipykernel_9084\\170026684.py:4: FutureWarning: Pass y=[0.00290014 0.00409537 0.00493656 ... 0.01993757 0.02242284 0.        ] as keyword args. From version 0.10 passing these as positional arguments will result in an error\n",
      "  s = librosa.feature.mfcc(x)\n",
      "C:\\Users\\ridan\\AppData\\Local\\Temp\\ipykernel_9084\\170026684.py:4: FutureWarning: Pass y=[-0.0059476  -0.00635371 -0.00426234 ... -0.01342075 -0.0170427\n",
      " -0.01172842] as keyword args. From version 0.10 passing these as positional arguments will result in an error\n",
      "  s = librosa.feature.mfcc(x)\n",
      "C:\\Users\\ridan\\AppData\\Local\\Temp\\ipykernel_9084\\170026684.py:4: FutureWarning: Pass y=[-7.36732838e-03 -8.63958029e-03 -7.22281237e-03 ... -2.97764054e-04\n",
      " -2.42851917e-05  0.00000000e+00] as keyword args. From version 0.10 passing these as positional arguments will result in an error\n",
      "  s = librosa.feature.mfcc(x)\n",
      "C:\\Users\\ridan\\AppData\\Local\\Temp\\ipykernel_9084\\170026684.py:4: FutureWarning: Pass y=[ 0.          0.          0.         ... -0.00193449 -0.00270089\n",
      "  0.        ] as keyword args. From version 0.10 passing these as positional arguments will result in an error\n",
      "  s = librosa.feature.mfcc(x)\n",
      "C:\\Users\\ridan\\AppData\\Local\\Temp\\ipykernel_9084\\170026684.py:4: FutureWarning: Pass y=[ 0.          0.          0.         ... -0.0114933  -0.00615098\n",
      "  0.        ] as keyword args. From version 0.10 passing these as positional arguments will result in an error\n",
      "  s = librosa.feature.mfcc(x)\n",
      "C:\\Users\\ridan\\AppData\\Local\\Temp\\ipykernel_9084\\170026684.py:4: FutureWarning: Pass y=[0.         0.         0.         ... 0.02203457 0.00487294 0.        ] as keyword args. From version 0.10 passing these as positional arguments will result in an error\n",
      "  s = librosa.feature.mfcc(x)\n",
      "C:\\Users\\ridan\\AppData\\Local\\Temp\\ipykernel_9084\\170026684.py:4: FutureWarning: Pass y=[0.         0.         0.         ... 0.00253885 0.00411031 0.00319516] as keyword args. From version 0.10 passing these as positional arguments will result in an error\n",
      "  s = librosa.feature.mfcc(x)\n"
     ]
    },
    {
     "name": "stdout",
     "output_type": "stream",
     "text": [
      "[ 0.00000000e+00  0.00000000e+00  0.00000000e+00 ... -5.60000225e-05\n",
      " -1.32228992e-05  0.00000000e+00]\n",
      "[-7.94121228e-05 -1.36044406e-03 -2.00247056e-03 ... -2.40361614e-03\n",
      " -2.55259224e-03 -1.48808165e-03]\n",
      "[-0.05367    -0.08598295 -0.07195037 ... -0.00627479 -0.00349688\n",
      " -0.00087341]\n",
      "[-0.01012145 -0.00869266 -0.008951   ...  0.00467094  0.00433852\n",
      "  0.00233393]\n",
      "[ 0.01258742  0.01499974  0.01400898 ... -0.00098202 -0.00070228\n",
      "  0.        ]\n",
      "[0.0074759  0.01003886 0.00968003 ... 0.00868367 0.00085677 0.        ]\n"
     ]
    },
    {
     "name": "stderr",
     "output_type": "stream",
     "text": [
      "C:\\Users\\ridan\\AppData\\Local\\Temp\\ipykernel_9084\\170026684.py:4: FutureWarning: Pass y=[ 0.00000000e+00  0.00000000e+00  0.00000000e+00 ... -5.60000225e-05\n",
      " -1.32228992e-05  0.00000000e+00] as keyword args. From version 0.10 passing these as positional arguments will result in an error\n",
      "  s = librosa.feature.mfcc(x)\n",
      "C:\\Users\\ridan\\AppData\\Local\\Temp\\ipykernel_9084\\170026684.py:4: FutureWarning: Pass y=[-7.94121228e-05 -1.36044406e-03 -2.00247056e-03 ... -2.40361614e-03\n",
      " -2.55259224e-03 -1.48808165e-03] as keyword args. From version 0.10 passing these as positional arguments will result in an error\n",
      "  s = librosa.feature.mfcc(x)\n",
      "C:\\Users\\ridan\\AppData\\Local\\Temp\\ipykernel_9084\\170026684.py:4: FutureWarning: Pass y=[-0.05367    -0.08598295 -0.07195037 ... -0.00627479 -0.00349688\n",
      " -0.00087341] as keyword args. From version 0.10 passing these as positional arguments will result in an error\n",
      "  s = librosa.feature.mfcc(x)\n",
      "C:\\Users\\ridan\\AppData\\Local\\Temp\\ipykernel_9084\\170026684.py:4: FutureWarning: Pass y=[-0.01012145 -0.00869266 -0.008951   ...  0.00467094  0.00433852\n",
      "  0.00233393] as keyword args. From version 0.10 passing these as positional arguments will result in an error\n",
      "  s = librosa.feature.mfcc(x)\n",
      "C:\\Users\\ridan\\AppData\\Local\\Temp\\ipykernel_9084\\170026684.py:4: FutureWarning: Pass y=[ 0.01258742  0.01499974  0.01400898 ... -0.00098202 -0.00070228\n",
      "  0.        ] as keyword args. From version 0.10 passing these as positional arguments will result in an error\n",
      "  s = librosa.feature.mfcc(x)\n",
      "C:\\Users\\ridan\\AppData\\Local\\Temp\\ipykernel_9084\\170026684.py:4: FutureWarning: Pass y=[0.0074759  0.01003886 0.00968003 ... 0.00868367 0.00085677 0.        ] as keyword args. From version 0.10 passing these as positional arguments will result in an error\n",
      "  s = librosa.feature.mfcc(x)\n"
     ]
    },
    {
     "name": "stdout",
     "output_type": "stream",
     "text": [
      "[0.         0.         0.         ... 0.05892125 0.02205843 0.        ]\n",
      "[ 0.00144256 -0.00218912 -0.00214031 ...  0.00088085  0.00058781\n",
      "  0.        ]\n",
      "[ 2.43021643e-02  2.67491036e-02  2.04453795e-02 ... -1.43754817e-05\n",
      " -3.17044844e-05  0.00000000e+00]\n",
      "[0.00000000e+00 0.00000000e+00 0.00000000e+00 ... 3.52721058e-06\n",
      " 1.28081780e-06 0.00000000e+00]\n",
      "[0.         0.         0.         ... 0.00533169 0.0053996  0.        ]\n",
      "[0.00000000e+00 0.00000000e+00 0.00000000e+00 ... 3.96807086e-05\n",
      " 2.63804953e-05 0.00000000e+00]\n",
      "[0.01180547 0.01356285 0.01378567 ... 0.01088878 0.01211431 0.        ]\n",
      "[0.         0.         0.         ... 0.03622774 0.0477091  0.03287619]\n",
      "[0.02475461 0.02983808 0.02744774 ... 0.01043966 0.01666006 0.01344091]\n"
     ]
    },
    {
     "name": "stderr",
     "output_type": "stream",
     "text": [
      "C:\\Users\\ridan\\AppData\\Local\\Temp\\ipykernel_9084\\170026684.py:4: FutureWarning: Pass y=[0.         0.         0.         ... 0.05892125 0.02205843 0.        ] as keyword args. From version 0.10 passing these as positional arguments will result in an error\n",
      "  s = librosa.feature.mfcc(x)\n",
      "C:\\Users\\ridan\\AppData\\Local\\Temp\\ipykernel_9084\\170026684.py:4: FutureWarning: Pass y=[ 0.00144256 -0.00218912 -0.00214031 ...  0.00088085  0.00058781\n",
      "  0.        ] as keyword args. From version 0.10 passing these as positional arguments will result in an error\n",
      "  s = librosa.feature.mfcc(x)\n",
      "C:\\Users\\ridan\\AppData\\Local\\Temp\\ipykernel_9084\\170026684.py:4: FutureWarning: Pass y=[ 2.43021643e-02  2.67491036e-02  2.04453795e-02 ... -1.43754817e-05\n",
      " -3.17044844e-05  0.00000000e+00] as keyword args. From version 0.10 passing these as positional arguments will result in an error\n",
      "  s = librosa.feature.mfcc(x)\n",
      "C:\\Users\\ridan\\AppData\\Local\\Temp\\ipykernel_9084\\170026684.py:4: FutureWarning: Pass y=[0.00000000e+00 0.00000000e+00 0.00000000e+00 ... 3.52721058e-06\n",
      " 1.28081780e-06 0.00000000e+00] as keyword args. From version 0.10 passing these as positional arguments will result in an error\n",
      "  s = librosa.feature.mfcc(x)\n",
      "C:\\Users\\ridan\\AppData\\Local\\Temp\\ipykernel_9084\\170026684.py:4: FutureWarning: Pass y=[0.         0.         0.         ... 0.00533169 0.0053996  0.        ] as keyword args. From version 0.10 passing these as positional arguments will result in an error\n",
      "  s = librosa.feature.mfcc(x)\n",
      "C:\\Users\\ridan\\AppData\\Local\\Temp\\ipykernel_9084\\170026684.py:4: FutureWarning: Pass y=[0.00000000e+00 0.00000000e+00 0.00000000e+00 ... 3.96807086e-05\n",
      " 2.63804953e-05 0.00000000e+00] as keyword args. From version 0.10 passing these as positional arguments will result in an error\n",
      "  s = librosa.feature.mfcc(x)\n",
      "C:\\Users\\ridan\\AppData\\Local\\Temp\\ipykernel_9084\\170026684.py:4: FutureWarning: Pass y=[0.01180547 0.01356285 0.01378567 ... 0.01088878 0.01211431 0.        ] as keyword args. From version 0.10 passing these as positional arguments will result in an error\n",
      "  s = librosa.feature.mfcc(x)\n",
      "C:\\Users\\ridan\\AppData\\Local\\Temp\\ipykernel_9084\\170026684.py:4: FutureWarning: Pass y=[0.         0.         0.         ... 0.03622774 0.0477091  0.03287619] as keyword args. From version 0.10 passing these as positional arguments will result in an error\n",
      "  s = librosa.feature.mfcc(x)\n",
      "C:\\Users\\ridan\\AppData\\Local\\Temp\\ipykernel_9084\\170026684.py:4: FutureWarning: Pass y=[0.02475461 0.02983808 0.02744774 ... 0.01043966 0.01666006 0.01344091] as keyword args. From version 0.10 passing these as positional arguments will result in an error\n",
      "  s = librosa.feature.mfcc(x)\n"
     ]
    },
    {
     "name": "stdout",
     "output_type": "stream",
     "text": [
      "[ 0.          0.          0.         ... -0.04838197 -0.06102118\n",
      " -0.04414461]\n",
      "[0.         0.         0.         ... 0.00033595 0.00042449 0.        ]\n",
      "[-7.43330960e-05 -3.65688680e-03 -1.03979237e-03 ...  3.19904724e-04\n",
      "  1.49534449e-03  0.00000000e+00]\n",
      "[0.         0.         0.         ... 0.09148035 0.09763579 0.        ]\n",
      "[-0.01635453 -0.01863519 -0.01371609 ... -0.00857768 -0.01178463\n",
      " -0.00789805]\n",
      "[ 0.          0.          0.         ... -0.02689438 -0.03084067\n",
      "  0.        ]\n",
      "[ 0.          0.          0.         ... -0.00573644 -0.00344546\n",
      "  0.        ]\n"
     ]
    },
    {
     "name": "stderr",
     "output_type": "stream",
     "text": [
      "C:\\Users\\ridan\\AppData\\Local\\Temp\\ipykernel_9084\\170026684.py:4: FutureWarning: Pass y=[ 0.          0.          0.         ... -0.04838197 -0.06102118\n",
      " -0.04414461] as keyword args. From version 0.10 passing these as positional arguments will result in an error\n",
      "  s = librosa.feature.mfcc(x)\n",
      "C:\\Users\\ridan\\AppData\\Local\\Temp\\ipykernel_9084\\170026684.py:4: FutureWarning: Pass y=[0.         0.         0.         ... 0.00033595 0.00042449 0.        ] as keyword args. From version 0.10 passing these as positional arguments will result in an error\n",
      "  s = librosa.feature.mfcc(x)\n",
      "C:\\Users\\ridan\\AppData\\Local\\Temp\\ipykernel_9084\\170026684.py:4: FutureWarning: Pass y=[-7.43330960e-05 -3.65688680e-03 -1.03979237e-03 ...  3.19904724e-04\n",
      "  1.49534449e-03  0.00000000e+00] as keyword args. From version 0.10 passing these as positional arguments will result in an error\n",
      "  s = librosa.feature.mfcc(x)\n",
      "C:\\Users\\ridan\\AppData\\Local\\Temp\\ipykernel_9084\\170026684.py:4: FutureWarning: Pass y=[0.         0.         0.         ... 0.09148035 0.09763579 0.        ] as keyword args. From version 0.10 passing these as positional arguments will result in an error\n",
      "  s = librosa.feature.mfcc(x)\n",
      "C:\\Users\\ridan\\AppData\\Local\\Temp\\ipykernel_9084\\170026684.py:4: FutureWarning: Pass y=[-0.01635453 -0.01863519 -0.01371609 ... -0.00857768 -0.01178463\n",
      " -0.00789805] as keyword args. From version 0.10 passing these as positional arguments will result in an error\n",
      "  s = librosa.feature.mfcc(x)\n",
      "C:\\Users\\ridan\\AppData\\Local\\Temp\\ipykernel_9084\\170026684.py:4: FutureWarning: Pass y=[ 0.          0.          0.         ... -0.02689438 -0.03084067\n",
      "  0.        ] as keyword args. From version 0.10 passing these as positional arguments will result in an error\n",
      "  s = librosa.feature.mfcc(x)\n",
      "C:\\Users\\ridan\\AppData\\Local\\Temp\\ipykernel_9084\\170026684.py:4: FutureWarning: Pass y=[ 0.          0.          0.         ... -0.00573644 -0.00344546\n",
      "  0.        ] as keyword args. From version 0.10 passing these as positional arguments will result in an error\n",
      "  s = librosa.feature.mfcc(x)\n"
     ]
    },
    {
     "name": "stdout",
     "output_type": "stream",
     "text": [
      "[-2.56654980e-03 -2.07763719e-03 -2.91459221e-04 ...  2.56613254e-03\n",
      " -2.16214194e-05  0.00000000e+00]\n",
      "[ 0.          0.          0.         ... -0.09905336 -0.11531608\n",
      " -0.07753288]\n",
      "[ 0.          0.          0.         ...  0.00020677 -0.00072602\n",
      " -0.00162256]\n",
      "[0.         0.         0.         ... 0.11216263 0.10300365 0.        ]\n",
      "[ 0.05386365  0.08628473  0.09932361 ... -0.1487163  -0.17599711\n",
      " -0.11883582]\n"
     ]
    },
    {
     "name": "stderr",
     "output_type": "stream",
     "text": [
      "C:\\Users\\ridan\\AppData\\Local\\Temp\\ipykernel_9084\\170026684.py:4: FutureWarning: Pass y=[-2.56654980e-03 -2.07763719e-03 -2.91459221e-04 ...  2.56613254e-03\n",
      " -2.16214194e-05  0.00000000e+00] as keyword args. From version 0.10 passing these as positional arguments will result in an error\n",
      "  s = librosa.feature.mfcc(x)\n",
      "C:\\Users\\ridan\\AppData\\Local\\Temp\\ipykernel_9084\\170026684.py:4: FutureWarning: Pass y=[ 0.          0.          0.         ... -0.09905336 -0.11531608\n",
      " -0.07753288] as keyword args. From version 0.10 passing these as positional arguments will result in an error\n",
      "  s = librosa.feature.mfcc(x)\n",
      "C:\\Users\\ridan\\AppData\\Local\\Temp\\ipykernel_9084\\170026684.py:4: FutureWarning: Pass y=[ 0.          0.          0.         ...  0.00020677 -0.00072602\n",
      " -0.00162256] as keyword args. From version 0.10 passing these as positional arguments will result in an error\n",
      "  s = librosa.feature.mfcc(x)\n",
      "C:\\Users\\ridan\\AppData\\Local\\Temp\\ipykernel_9084\\170026684.py:4: FutureWarning: Pass y=[0.         0.         0.         ... 0.11216263 0.10300365 0.        ] as keyword args. From version 0.10 passing these as positional arguments will result in an error\n",
      "  s = librosa.feature.mfcc(x)\n",
      "C:\\Users\\ridan\\AppData\\Local\\Temp\\ipykernel_9084\\170026684.py:4: FutureWarning: Pass y=[ 0.05386365  0.08628473  0.09932361 ... -0.1487163  -0.17599711\n",
      " -0.11883582] as keyword args. From version 0.10 passing these as positional arguments will result in an error\n",
      "  s = librosa.feature.mfcc(x)\n",
      "C:\\Users\\ridan\\AppData\\Local\\Temp\\ipykernel_9084\\170026684.py:4: FutureWarning: Pass y=[ 0.0026228   0.00141538  0.00068448 ...  0.00245216 -0.0002057\n",
      " -0.00114156] as keyword args. From version 0.10 passing these as positional arguments will result in an error\n",
      "  s = librosa.feature.mfcc(x)\n"
     ]
    },
    {
     "name": "stdout",
     "output_type": "stream",
     "text": [
      "[ 0.0026228   0.00141538  0.00068448 ...  0.00245216 -0.0002057\n",
      " -0.00114156]\n",
      "[ 0.00136564  0.00255323  0.0031568  ... -0.02491145 -0.03986528\n",
      " -0.02804348]\n",
      "[-0.00183062 -0.00208614 -0.00310275 ... -0.00249476 -0.00372915\n",
      " -0.00275712]\n",
      "[-0.00682864 -0.00871656 -0.00746975 ... -0.04493218 -0.03759801\n",
      "  0.        ]\n"
     ]
    },
    {
     "name": "stderr",
     "output_type": "stream",
     "text": [
      "C:\\Users\\ridan\\AppData\\Local\\Temp\\ipykernel_9084\\170026684.py:4: FutureWarning: Pass y=[ 0.00136564  0.00255323  0.0031568  ... -0.02491145 -0.03986528\n",
      " -0.02804348] as keyword args. From version 0.10 passing these as positional arguments will result in an error\n",
      "  s = librosa.feature.mfcc(x)\n",
      "C:\\Users\\ridan\\AppData\\Local\\Temp\\ipykernel_9084\\170026684.py:4: FutureWarning: Pass y=[-0.00183062 -0.00208614 -0.00310275 ... -0.00249476 -0.00372915\n",
      " -0.00275712] as keyword args. From version 0.10 passing these as positional arguments will result in an error\n",
      "  s = librosa.feature.mfcc(x)\n",
      "C:\\Users\\ridan\\AppData\\Local\\Temp\\ipykernel_9084\\170026684.py:4: FutureWarning: Pass y=[-0.00682864 -0.00871656 -0.00746975 ... -0.04493218 -0.03759801\n",
      "  0.        ] as keyword args. From version 0.10 passing these as positional arguments will result in an error\n",
      "  s = librosa.feature.mfcc(x)\n",
      "C:\\Users\\ridan\\AppData\\Local\\Temp\\ipykernel_9084\\170026684.py:4: FutureWarning: Pass y=[ 0.          0.          0.         ... -0.07335856 -0.03306153\n",
      " -0.0079097 ] as keyword args. From version 0.10 passing these as positional arguments will result in an error\n",
      "  s = librosa.feature.mfcc(x)\n"
     ]
    },
    {
     "name": "stdout",
     "output_type": "stream",
     "text": [
      "[ 0.          0.          0.         ... -0.07335856 -0.03306153\n",
      " -0.0079097 ]\n",
      "[ 3.36296966e-01  3.20168615e-01  1.62691383e-01 ... -2.30198940e-04\n",
      "  2.71610613e-03  3.18914990e-03]\n",
      "[-0.03682234 -0.03851821 -0.00604531 ... -0.16096265 -0.32217357\n",
      " -0.2471634 ]\n",
      "[-2.98536605e-05 -3.41056612e-05 -2.72309571e-05 ... -4.32005766e-02\n",
      " -2.57289173e-02  0.00000000e+00]\n",
      "[ 0.          0.          0.         ... -0.00066142 -0.00058417\n",
      "  0.        ]\n",
      "[-3.00711222e-02 -3.50577827e-02 -2.99993562e-02 ...  9.94139998e-04\n",
      "  7.27111471e-04 -8.44298984e-05]\n"
     ]
    },
    {
     "name": "stderr",
     "output_type": "stream",
     "text": [
      "C:\\Users\\ridan\\AppData\\Local\\Temp\\ipykernel_9084\\170026684.py:4: FutureWarning: Pass y=[ 3.36296966e-01  3.20168615e-01  1.62691383e-01 ... -2.30198940e-04\n",
      "  2.71610613e-03  3.18914990e-03] as keyword args. From version 0.10 passing these as positional arguments will result in an error\n",
      "  s = librosa.feature.mfcc(x)\n",
      "C:\\Users\\ridan\\AppData\\Local\\Temp\\ipykernel_9084\\170026684.py:4: FutureWarning: Pass y=[-0.03682234 -0.03851821 -0.00604531 ... -0.16096265 -0.32217357\n",
      " -0.2471634 ] as keyword args. From version 0.10 passing these as positional arguments will result in an error\n",
      "  s = librosa.feature.mfcc(x)\n",
      "C:\\Users\\ridan\\AppData\\Local\\Temp\\ipykernel_9084\\170026684.py:4: FutureWarning: Pass y=[-2.98536605e-05 -3.41056612e-05 -2.72309571e-05 ... -4.32005766e-02\n",
      " -2.57289173e-02  0.00000000e+00] as keyword args. From version 0.10 passing these as positional arguments will result in an error\n",
      "  s = librosa.feature.mfcc(x)\n",
      "C:\\Users\\ridan\\AppData\\Local\\Temp\\ipykernel_9084\\170026684.py:4: FutureWarning: Pass y=[ 0.          0.          0.         ... -0.00066142 -0.00058417\n",
      "  0.        ] as keyword args. From version 0.10 passing these as positional arguments will result in an error\n",
      "  s = librosa.feature.mfcc(x)\n",
      "C:\\Users\\ridan\\AppData\\Local\\Temp\\ipykernel_9084\\170026684.py:4: FutureWarning: Pass y=[-3.00711222e-02 -3.50577827e-02 -2.99993562e-02 ...  9.94139998e-04\n",
      "  7.27111471e-04 -8.44298984e-05] as keyword args. From version 0.10 passing these as positional arguments will result in an error\n",
      "  s = librosa.feature.mfcc(x)\n",
      "C:\\Users\\ridan\\AppData\\Local\\Temp\\ipykernel_9084\\170026684.py:4: FutureWarning: Pass y=[-0.00872313 -0.00471501  0.00294542 ...  0.0069974   0.00727939\n",
      "  0.00474977] as keyword args. From version 0.10 passing these as positional arguments will result in an error\n",
      "  s = librosa.feature.mfcc(x)\n"
     ]
    },
    {
     "name": "stdout",
     "output_type": "stream",
     "text": [
      "[-0.00872313 -0.00471501  0.00294542 ...  0.0069974   0.00727939\n",
      "  0.00474977]\n",
      "[ 0.01396665  0.01467524  0.00765526 ... -0.00128139 -0.00156278\n",
      " -0.0013344 ]\n",
      "[-0.00593795 -0.00526985 -0.00268861 ... -0.02919563 -0.02382859\n",
      " -0.01037914]\n",
      "[ 0.00663519  0.00825043  0.00792641 ... -0.00313553 -0.00277336\n",
      " -0.0013316 ]\n"
     ]
    },
    {
     "name": "stderr",
     "output_type": "stream",
     "text": [
      "C:\\Users\\ridan\\AppData\\Local\\Temp\\ipykernel_9084\\170026684.py:4: FutureWarning: Pass y=[ 0.01396665  0.01467524  0.00765526 ... -0.00128139 -0.00156278\n",
      " -0.0013344 ] as keyword args. From version 0.10 passing these as positional arguments will result in an error\n",
      "  s = librosa.feature.mfcc(x)\n",
      "C:\\Users\\ridan\\AppData\\Local\\Temp\\ipykernel_9084\\170026684.py:4: FutureWarning: Pass y=[-0.00593795 -0.00526985 -0.00268861 ... -0.02919563 -0.02382859\n",
      " -0.01037914] as keyword args. From version 0.10 passing these as positional arguments will result in an error\n",
      "  s = librosa.feature.mfcc(x)\n",
      "C:\\Users\\ridan\\AppData\\Local\\Temp\\ipykernel_9084\\170026684.py:4: FutureWarning: Pass y=[ 0.00663519  0.00825043  0.00792641 ... -0.00313553 -0.00277336\n",
      " -0.0013316 ] as keyword args. From version 0.10 passing these as positional arguments will result in an error\n",
      "  s = librosa.feature.mfcc(x)\n",
      "C:\\Users\\ridan\\AppData\\Local\\Temp\\ipykernel_9084\\170026684.py:4: FutureWarning: Pass y=[ 0.00099766  0.00113845  0.00093807 ... -0.00313553 -0.00277336\n",
      " -0.0013316 ] as keyword args. From version 0.10 passing these as positional arguments will result in an error\n",
      "  s = librosa.feature.mfcc(x)\n",
      "C:\\Users\\ridan\\AppData\\Local\\Temp\\ipykernel_9084\\170026684.py:4: FutureWarning: Pass y=[-3.41599791e-04 -4.77812612e-04 -3.90081217e-04 ... -5.05380488e-04\n",
      "  4.05627078e-05 -5.69371328e-05] as keyword args. From version 0.10 passing these as positional arguments will result in an error\n",
      "  s = librosa.feature.mfcc(x)\n",
      "C:\\Users\\ridan\\AppData\\Local\\Temp\\ipykernel_9084\\170026684.py:4: FutureWarning: Pass y=[ 4.16519198e-03  1.65418586e-05 -6.96397287e-03 ... -7.19420586e-03\n",
      " -6.73884649e-03 -2.84264055e-03] as keyword args. From version 0.10 passing these as positional arguments will result in an error\n",
      "  s = librosa.feature.mfcc(x)\n"
     ]
    },
    {
     "name": "stdout",
     "output_type": "stream",
     "text": [
      "[ 0.00099766  0.00113845  0.00093807 ... -0.00313553 -0.00277336\n",
      " -0.0013316 ]\n",
      "[-3.41599791e-04 -4.77812612e-04 -3.90081217e-04 ... -5.05380488e-04\n",
      "  4.05627078e-05 -5.69371328e-05]\n",
      "[ 4.16519198e-03  1.65418586e-05 -6.96397287e-03 ... -7.19420586e-03\n",
      " -6.73884649e-03 -2.84264055e-03]\n",
      "[-0.0120424  -0.01585899 -0.01484351 ...  0.01382551  0.0135817\n",
      "  0.        ]\n",
      "[0.00000000e+00 0.00000000e+00 0.00000000e+00 ... 1.85833805e-04\n",
      " 3.19280319e-05 0.00000000e+00]\n",
      "[-0.00553789 -0.00241569  0.00210022 ... -0.00239501 -0.00120983\n",
      "  0.        ]\n",
      "[ 0.          0.          0.         ... -0.00027448 -0.00028442\n",
      "  0.        ]\n"
     ]
    },
    {
     "name": "stderr",
     "output_type": "stream",
     "text": [
      "C:\\Users\\ridan\\AppData\\Local\\Temp\\ipykernel_9084\\170026684.py:4: FutureWarning: Pass y=[-0.0120424  -0.01585899 -0.01484351 ...  0.01382551  0.0135817\n",
      "  0.        ] as keyword args. From version 0.10 passing these as positional arguments will result in an error\n",
      "  s = librosa.feature.mfcc(x)\n",
      "C:\\Users\\ridan\\AppData\\Local\\Temp\\ipykernel_9084\\170026684.py:4: FutureWarning: Pass y=[0.00000000e+00 0.00000000e+00 0.00000000e+00 ... 1.85833805e-04\n",
      " 3.19280319e-05 0.00000000e+00] as keyword args. From version 0.10 passing these as positional arguments will result in an error\n",
      "  s = librosa.feature.mfcc(x)\n",
      "C:\\Users\\ridan\\AppData\\Local\\Temp\\ipykernel_9084\\170026684.py:4: FutureWarning: Pass y=[-0.00553789 -0.00241569  0.00210022 ... -0.00239501 -0.00120983\n",
      "  0.        ] as keyword args. From version 0.10 passing these as positional arguments will result in an error\n",
      "  s = librosa.feature.mfcc(x)\n",
      "C:\\Users\\ridan\\AppData\\Local\\Temp\\ipykernel_9084\\170026684.py:4: FutureWarning: Pass y=[ 0.          0.          0.         ... -0.00027448 -0.00028442\n",
      "  0.        ] as keyword args. From version 0.10 passing these as positional arguments will result in an error\n",
      "  s = librosa.feature.mfcc(x)\n",
      "C:\\Users\\ridan\\AppData\\Local\\Temp\\ipykernel_9084\\170026684.py:4: FutureWarning: Pass y=[-0.00983202 -0.0114736  -0.0096662  ...  0.00763518  0.00743562\n",
      "  0.00441286] as keyword args. From version 0.10 passing these as positional arguments will result in an error\n",
      "  s = librosa.feature.mfcc(x)\n",
      "C:\\Users\\ridan\\AppData\\Local\\Temp\\ipykernel_9084\\170026684.py:4: FutureWarning: Pass y=[ 0.00223612  0.00127893 -0.00018153 ...  0.00718775  0.00892974\n",
      "  0.00609274] as keyword args. From version 0.10 passing these as positional arguments will result in an error\n",
      "  s = librosa.feature.mfcc(x)\n"
     ]
    },
    {
     "name": "stdout",
     "output_type": "stream",
     "text": [
      "[-0.00983202 -0.0114736  -0.0096662  ...  0.00763518  0.00743562\n",
      "  0.00441286]\n",
      "[ 0.00223612  0.00127893 -0.00018153 ...  0.00718775  0.00892974\n",
      "  0.00609274]\n",
      "[0.         0.         0.         ... 0.12075545 0.12356271 0.        ]\n",
      "[ 0.00495607  0.00622961  0.00546009 ... -0.00449912 -0.00346249\n",
      " -0.00179738]\n",
      "[ 0.          0.          0.         ... -0.01135588 -0.00500565\n",
      "  0.        ]\n",
      "[ 0.00502918  0.00633894  0.00582953 ... -0.05103165 -0.07970191\n",
      " -0.05688558]\n"
     ]
    },
    {
     "name": "stderr",
     "output_type": "stream",
     "text": [
      "C:\\Users\\ridan\\AppData\\Local\\Temp\\ipykernel_9084\\170026684.py:4: FutureWarning: Pass y=[0.         0.         0.         ... 0.12075545 0.12356271 0.        ] as keyword args. From version 0.10 passing these as positional arguments will result in an error\n",
      "  s = librosa.feature.mfcc(x)\n",
      "C:\\Users\\ridan\\AppData\\Local\\Temp\\ipykernel_9084\\170026684.py:4: FutureWarning: Pass y=[ 0.00495607  0.00622961  0.00546009 ... -0.00449912 -0.00346249\n",
      " -0.00179738] as keyword args. From version 0.10 passing these as positional arguments will result in an error\n",
      "  s = librosa.feature.mfcc(x)\n",
      "C:\\Users\\ridan\\AppData\\Local\\Temp\\ipykernel_9084\\170026684.py:4: FutureWarning: Pass y=[ 0.          0.          0.         ... -0.01135588 -0.00500565\n",
      "  0.        ] as keyword args. From version 0.10 passing these as positional arguments will result in an error\n",
      "  s = librosa.feature.mfcc(x)\n",
      "C:\\Users\\ridan\\AppData\\Local\\Temp\\ipykernel_9084\\170026684.py:4: FutureWarning: Pass y=[ 0.00502918  0.00633894  0.00582953 ... -0.05103165 -0.07970191\n",
      " -0.05688558] as keyword args. From version 0.10 passing these as positional arguments will result in an error\n",
      "  s = librosa.feature.mfcc(x)\n",
      "C:\\Users\\ridan\\AppData\\Local\\Temp\\ipykernel_9084\\170026684.py:4: FutureWarning: Pass y=[-0.01957476 -0.02280207 -0.01963814 ... -0.00734848 -0.00560695\n",
      " -0.00248863] as keyword args. From version 0.10 passing these as positional arguments will result in an error\n",
      "  s = librosa.feature.mfcc(x)\n",
      "C:\\Users\\ridan\\AppData\\Local\\Temp\\ipykernel_9084\\170026684.py:4: FutureWarning: Pass y=[-0.00727948 -0.01012777 -0.00892623 ... -0.00691041 -0.00575623\n",
      " -0.0030431 ] as keyword args. From version 0.10 passing these as positional arguments will result in an error\n",
      "  s = librosa.feature.mfcc(x)\n"
     ]
    },
    {
     "name": "stdout",
     "output_type": "stream",
     "text": [
      "[-0.01957476 -0.02280207 -0.01963814 ... -0.00734848 -0.00560695\n",
      " -0.00248863]\n",
      "[-0.00727948 -0.01012777 -0.00892623 ... -0.00691041 -0.00575623\n",
      " -0.0030431 ]\n",
      "[0.00164141 0.0032724  0.00847304 ... 0.00038278 0.00100806 0.00052432]\n",
      "[-2.83784910e-05 -9.95004178e-05 -1.19632496e-04 ...  1.14688504e-02\n",
      "  1.52032531e-02  1.07231640e-02]\n"
     ]
    },
    {
     "name": "stderr",
     "output_type": "stream",
     "text": [
      "C:\\Users\\ridan\\AppData\\Local\\Temp\\ipykernel_9084\\170026684.py:4: FutureWarning: Pass y=[0.00164141 0.0032724  0.00847304 ... 0.00038278 0.00100806 0.00052432] as keyword args. From version 0.10 passing these as positional arguments will result in an error\n",
      "  s = librosa.feature.mfcc(x)\n",
      "C:\\Users\\ridan\\AppData\\Local\\Temp\\ipykernel_9084\\170026684.py:4: FutureWarning: Pass y=[-2.83784910e-05 -9.95004178e-05 -1.19632496e-04 ...  1.14688504e-02\n",
      "  1.52032531e-02  1.07231640e-02] as keyword args. From version 0.10 passing these as positional arguments will result in an error\n",
      "  s = librosa.feature.mfcc(x)\n",
      "C:\\Users\\ridan\\AppData\\Local\\Temp\\ipykernel_9084\\170026684.py:4: FutureWarning: Pass y=[ 0.00307426  0.00358184  0.00279809 ... -0.70775948 -0.72309431\n",
      " -0.42780123] as keyword args. From version 0.10 passing these as positional arguments will result in an error\n",
      "  s = librosa.feature.mfcc(x)\n",
      "C:\\Users\\ridan\\AppData\\Local\\Temp\\ipykernel_9084\\170026684.py:4: FutureWarning: Pass y=[-0.14554843 -0.13632886 -0.03845287 ... -0.0402873  -0.04289344\n",
      " -0.02600946] as keyword args. From version 0.10 passing these as positional arguments will result in an error\n",
      "  s = librosa.feature.mfcc(x)\n"
     ]
    },
    {
     "name": "stdout",
     "output_type": "stream",
     "text": [
      "[ 0.00307426  0.00358184  0.00279809 ... -0.70775948 -0.72309431\n",
      " -0.42780123]\n",
      "[-0.14554843 -0.13632886 -0.03845287 ... -0.0402873  -0.04289344\n",
      " -0.02600946]\n",
      "[-0.36024399 -0.23204511  0.08363098 ... -0.00262498 -0.002036\n",
      " -0.00115269]\n",
      "[-0.00038797 -0.00047323 -0.0003662  ...  0.00102689  0.00094953\n",
      "  0.        ]\n"
     ]
    },
    {
     "name": "stderr",
     "output_type": "stream",
     "text": [
      "C:\\Users\\ridan\\AppData\\Local\\Temp\\ipykernel_9084\\170026684.py:4: FutureWarning: Pass y=[-0.36024399 -0.23204511  0.08363098 ... -0.00262498 -0.002036\n",
      " -0.00115269] as keyword args. From version 0.10 passing these as positional arguments will result in an error\n",
      "  s = librosa.feature.mfcc(x)\n",
      "C:\\Users\\ridan\\AppData\\Local\\Temp\\ipykernel_9084\\170026684.py:4: FutureWarning: Pass y=[-0.00038797 -0.00047323 -0.0003662  ...  0.00102689  0.00094953\n",
      "  0.        ] as keyword args. From version 0.10 passing these as positional arguments will result in an error\n",
      "  s = librosa.feature.mfcc(x)\n",
      "C:\\Users\\ridan\\AppData\\Local\\Temp\\ipykernel_9084\\170026684.py:4: FutureWarning: Pass y=[ 0.0025378   0.00170123 -0.00051044 ... -0.01468646 -0.0168452\n",
      " -0.01061077] as keyword args. From version 0.10 passing these as positional arguments will result in an error\n",
      "  s = librosa.feature.mfcc(x)\n",
      "C:\\Users\\ridan\\AppData\\Local\\Temp\\ipykernel_9084\\170026684.py:4: FutureWarning: Pass y=[-0.00045021 -0.00626033 -0.01166166 ... -0.00907478 -0.0095835\n",
      "  0.        ] as keyword args. From version 0.10 passing these as positional arguments will result in an error\n",
      "  s = librosa.feature.mfcc(x)\n",
      "C:\\Users\\ridan\\AppData\\Local\\Temp\\ipykernel_9084\\170026684.py:4: FutureWarning: Pass y=[ 0.0050469   0.00580253  0.00928164 ... -0.0192813  -0.01261997\n",
      "  0.        ] as keyword args. From version 0.10 passing these as positional arguments will result in an error\n",
      "  s = librosa.feature.mfcc(x)\n"
     ]
    },
    {
     "name": "stdout",
     "output_type": "stream",
     "text": [
      "[ 0.0025378   0.00170123 -0.00051044 ... -0.01468646 -0.0168452\n",
      " -0.01061077]\n",
      "[-0.00045021 -0.00626033 -0.01166166 ... -0.00907478 -0.0095835\n",
      "  0.        ]\n",
      "[ 0.0050469   0.00580253  0.00928164 ... -0.0192813  -0.01261997\n",
      "  0.        ]\n",
      "[ 0.00462194  0.00756787  0.00787534 ... -0.01086691 -0.00717343\n",
      "  0.        ]\n",
      "[0.00301464 0.00574004 0.00564085 ... 0.00877489 0.00524877 0.        ]\n",
      "[-0.00050562 -0.00019507 -0.0006213  ... -0.00342228 -0.00292387\n",
      "  0.        ]\n",
      "[ 2.64068475e-03  2.93439469e-03 -7.20307472e-05 ... -1.67363497e-03\n",
      " -2.06391114e-03  0.00000000e+00]\n"
     ]
    },
    {
     "name": "stderr",
     "output_type": "stream",
     "text": [
      "C:\\Users\\ridan\\AppData\\Local\\Temp\\ipykernel_9084\\170026684.py:4: FutureWarning: Pass y=[ 0.00462194  0.00756787  0.00787534 ... -0.01086691 -0.00717343\n",
      "  0.        ] as keyword args. From version 0.10 passing these as positional arguments will result in an error\n",
      "  s = librosa.feature.mfcc(x)\n",
      "C:\\Users\\ridan\\AppData\\Local\\Temp\\ipykernel_9084\\170026684.py:4: FutureWarning: Pass y=[0.00301464 0.00574004 0.00564085 ... 0.00877489 0.00524877 0.        ] as keyword args. From version 0.10 passing these as positional arguments will result in an error\n",
      "  s = librosa.feature.mfcc(x)\n",
      "C:\\Users\\ridan\\AppData\\Local\\Temp\\ipykernel_9084\\170026684.py:4: FutureWarning: Pass y=[-0.00050562 -0.00019507 -0.0006213  ... -0.00342228 -0.00292387\n",
      "  0.        ] as keyword args. From version 0.10 passing these as positional arguments will result in an error\n",
      "  s = librosa.feature.mfcc(x)\n",
      "C:\\Users\\ridan\\AppData\\Local\\Temp\\ipykernel_9084\\170026684.py:4: FutureWarning: Pass y=[ 2.64068475e-03  2.93439469e-03 -7.20307472e-05 ... -1.67363497e-03\n",
      " -2.06391114e-03  0.00000000e+00] as keyword args. From version 0.10 passing these as positional arguments will result in an error\n",
      "  s = librosa.feature.mfcc(x)\n",
      "C:\\Users\\ridan\\AppData\\Local\\Temp\\ipykernel_9084\\170026684.py:4: FutureWarning: Pass y=[-4.09617011e-09 -1.63907080e-09  8.66477230e-09 ...  2.09966840e-02\n",
      "  2.17044987e-02  0.00000000e+00] as keyword args. From version 0.10 passing these as positional arguments will result in an error\n",
      "  s = librosa.feature.mfcc(x)\n",
      "C:\\Users\\ridan\\AppData\\Local\\Temp\\ipykernel_9084\\170026684.py:4: FutureWarning: Pass y=[-0.00131349 -0.00196443 -0.00224827 ...  0.00629015  0.00447828\n",
      "  0.        ] as keyword args. From version 0.10 passing these as positional arguments will result in an error\n",
      "  s = librosa.feature.mfcc(x)\n"
     ]
    },
    {
     "name": "stdout",
     "output_type": "stream",
     "text": [
      "[-4.09617011e-09 -1.63907080e-09  8.66477230e-09 ...  2.09966840e-02\n",
      "  2.17044987e-02  0.00000000e+00]\n",
      "[-0.00131349 -0.00196443 -0.00224827 ...  0.00629015  0.00447828\n",
      "  0.        ]\n",
      "[-0.07957514 -0.07379699 -0.05187393 ... -0.03548825 -0.02467709\n",
      "  0.        ]\n",
      "[ 1.13095039e-04  2.98639978e-04 -2.56667440e-05 ... -1.26032778e-03\n",
      " -8.32177362e-04  0.00000000e+00]\n",
      "[-0.00055463 -0.00084776 -0.00064298 ...  0.00759061  0.00718021\n",
      "  0.        ]\n"
     ]
    },
    {
     "name": "stderr",
     "output_type": "stream",
     "text": [
      "C:\\Users\\ridan\\AppData\\Local\\Temp\\ipykernel_9084\\170026684.py:4: FutureWarning: Pass y=[-0.07957514 -0.07379699 -0.05187393 ... -0.03548825 -0.02467709\n",
      "  0.        ] as keyword args. From version 0.10 passing these as positional arguments will result in an error\n",
      "  s = librosa.feature.mfcc(x)\n",
      "C:\\Users\\ridan\\AppData\\Local\\Temp\\ipykernel_9084\\170026684.py:4: FutureWarning: Pass y=[ 1.13095039e-04  2.98639978e-04 -2.56667440e-05 ... -1.26032778e-03\n",
      " -8.32177362e-04  0.00000000e+00] as keyword args. From version 0.10 passing these as positional arguments will result in an error\n",
      "  s = librosa.feature.mfcc(x)\n",
      "C:\\Users\\ridan\\AppData\\Local\\Temp\\ipykernel_9084\\170026684.py:4: FutureWarning: Pass y=[-0.00055463 -0.00084776 -0.00064298 ...  0.00759061  0.00718021\n",
      "  0.        ] as keyword args. From version 0.10 passing these as positional arguments will result in an error\n",
      "  s = librosa.feature.mfcc(x)\n",
      "C:\\Users\\ridan\\AppData\\Local\\Temp\\ipykernel_9084\\170026684.py:4: FutureWarning: Pass y=[-0.0017817  -0.00200934 -0.0017002  ...  0.00245203  0.00166973\n",
      "  0.        ] as keyword args. From version 0.10 passing these as positional arguments will result in an error\n",
      "  s = librosa.feature.mfcc(x)\n"
     ]
    },
    {
     "name": "stdout",
     "output_type": "stream",
     "text": [
      "[-0.0017817  -0.00200934 -0.0017002  ...  0.00245203  0.00166973\n",
      "  0.        ]\n",
      "[ 0.00203326  0.00428727  0.00497905 ... -0.00305171 -0.0043246\n",
      " -0.00312857]\n",
      "[-0.00107732 -0.00129575 -0.00136674 ...  0.00440312  0.00372982\n",
      "  0.00198613]\n",
      "[-2.86417065e-05 -9.10804032e-06 -4.42898210e-06 ... -5.27158408e-03\n",
      " -5.80924589e-03  0.00000000e+00]\n",
      "[-8.16935978e-04 -6.56746045e-04 -8.50007708e-05 ...  4.95574762e-03\n",
      "  3.88101582e-03  0.00000000e+00]\n",
      "[-0.01136966 -0.01293567 -0.01037457 ... -0.00575395 -0.00594165\n",
      "  0.        ]\n",
      "[-0.00029017 -0.00011567  0.00018362 ... -0.01316992 -0.0113604\n",
      "  0.        ]\n",
      "[-0.00738836 -0.00659928  0.00734119 ...  0.00131866  0.00106223\n",
      "  0.        ]\n"
     ]
    },
    {
     "name": "stderr",
     "output_type": "stream",
     "text": [
      "C:\\Users\\ridan\\AppData\\Local\\Temp\\ipykernel_9084\\170026684.py:4: FutureWarning: Pass y=[ 0.00203326  0.00428727  0.00497905 ... -0.00305171 -0.0043246\n",
      " -0.00312857] as keyword args. From version 0.10 passing these as positional arguments will result in an error\n",
      "  s = librosa.feature.mfcc(x)\n",
      "C:\\Users\\ridan\\AppData\\Local\\Temp\\ipykernel_9084\\170026684.py:4: FutureWarning: Pass y=[-0.00107732 -0.00129575 -0.00136674 ...  0.00440312  0.00372982\n",
      "  0.00198613] as keyword args. From version 0.10 passing these as positional arguments will result in an error\n",
      "  s = librosa.feature.mfcc(x)\n",
      "C:\\Users\\ridan\\AppData\\Local\\Temp\\ipykernel_9084\\170026684.py:4: FutureWarning: Pass y=[-2.86417065e-05 -9.10804032e-06 -4.42898210e-06 ... -5.27158408e-03\n",
      " -5.80924589e-03  0.00000000e+00] as keyword args. From version 0.10 passing these as positional arguments will result in an error\n",
      "  s = librosa.feature.mfcc(x)\n",
      "C:\\Users\\ridan\\AppData\\Local\\Temp\\ipykernel_9084\\170026684.py:4: FutureWarning: Pass y=[-8.16935978e-04 -6.56746045e-04 -8.50007708e-05 ...  4.95574762e-03\n",
      "  3.88101582e-03  0.00000000e+00] as keyword args. From version 0.10 passing these as positional arguments will result in an error\n",
      "  s = librosa.feature.mfcc(x)\n",
      "C:\\Users\\ridan\\AppData\\Local\\Temp\\ipykernel_9084\\170026684.py:4: FutureWarning: Pass y=[-0.01136966 -0.01293567 -0.01037457 ... -0.00575395 -0.00594165\n",
      "  0.        ] as keyword args. From version 0.10 passing these as positional arguments will result in an error\n",
      "  s = librosa.feature.mfcc(x)\n",
      "C:\\Users\\ridan\\AppData\\Local\\Temp\\ipykernel_9084\\170026684.py:4: FutureWarning: Pass y=[-0.00029017 -0.00011567  0.00018362 ... -0.01316992 -0.0113604\n",
      "  0.        ] as keyword args. From version 0.10 passing these as positional arguments will result in an error\n",
      "  s = librosa.feature.mfcc(x)\n",
      "C:\\Users\\ridan\\AppData\\Local\\Temp\\ipykernel_9084\\170026684.py:4: FutureWarning: Pass y=[-0.00738836 -0.00659928  0.00734119 ...  0.00131866  0.00106223\n",
      "  0.        ] as keyword args. From version 0.10 passing these as positional arguments will result in an error\n",
      "  s = librosa.feature.mfcc(x)\n"
     ]
    },
    {
     "name": "stdout",
     "output_type": "stream",
     "text": [
      "[-0.00332317 -0.00706442 -0.00959436 ...  0.0133674   0.01507414\n",
      "  0.00940706]\n",
      "[ 0.00023441  0.00024121  0.00010149 ... -0.00546361 -0.00460936\n",
      "  0.        ]\n",
      "[-0.00105417 -0.00079059 -0.00040562 ... -0.00105534  0.0054957\n",
      "  0.        ]\n"
     ]
    },
    {
     "name": "stderr",
     "output_type": "stream",
     "text": [
      "C:\\Users\\ridan\\AppData\\Local\\Temp\\ipykernel_9084\\170026684.py:4: FutureWarning: Pass y=[-0.00332317 -0.00706442 -0.00959436 ...  0.0133674   0.01507414\n",
      "  0.00940706] as keyword args. From version 0.10 passing these as positional arguments will result in an error\n",
      "  s = librosa.feature.mfcc(x)\n",
      "C:\\Users\\ridan\\AppData\\Local\\Temp\\ipykernel_9084\\170026684.py:4: FutureWarning: Pass y=[ 0.00023441  0.00024121  0.00010149 ... -0.00546361 -0.00460936\n",
      "  0.        ] as keyword args. From version 0.10 passing these as positional arguments will result in an error\n",
      "  s = librosa.feature.mfcc(x)\n",
      "C:\\Users\\ridan\\AppData\\Local\\Temp\\ipykernel_9084\\170026684.py:4: FutureWarning: Pass y=[-0.00105417 -0.00079059 -0.00040562 ... -0.00105534  0.0054957\n",
      "  0.        ] as keyword args. From version 0.10 passing these as positional arguments will result in an error\n",
      "  s = librosa.feature.mfcc(x)\n"
     ]
    },
    {
     "name": "stdout",
     "output_type": "stream",
     "text": [
      "[0.05105895 0.07913737 0.07644677 ... 0.08121129 0.07098603 0.        ]\n",
      "[0.         0.         0.         ... 0.00156649 0.00223095 0.        ]\n",
      "[-0.01873176  0.02710006  0.07871229 ... -0.00654002  0.01498888\n",
      "  0.        ]\n",
      "[-0.00970958 -0.01367993 -0.01074525 ...  0.00661404  0.00681246\n",
      "  0.        ]\n",
      "[ 0.00073514  0.00088781  0.00079257 ... -0.01314562 -0.01470051\n",
      "  0.        ]\n"
     ]
    },
    {
     "name": "stderr",
     "output_type": "stream",
     "text": [
      "C:\\Users\\ridan\\AppData\\Local\\Temp\\ipykernel_9084\\170026684.py:4: FutureWarning: Pass y=[0.05105895 0.07913737 0.07644677 ... 0.08121129 0.07098603 0.        ] as keyword args. From version 0.10 passing these as positional arguments will result in an error\n",
      "  s = librosa.feature.mfcc(x)\n",
      "C:\\Users\\ridan\\AppData\\Local\\Temp\\ipykernel_9084\\170026684.py:4: FutureWarning: Pass y=[0.         0.         0.         ... 0.00156649 0.00223095 0.        ] as keyword args. From version 0.10 passing these as positional arguments will result in an error\n",
      "  s = librosa.feature.mfcc(x)\n",
      "C:\\Users\\ridan\\AppData\\Local\\Temp\\ipykernel_9084\\170026684.py:4: FutureWarning: Pass y=[-0.01873176  0.02710006  0.07871229 ... -0.00654002  0.01498888\n",
      "  0.        ] as keyword args. From version 0.10 passing these as positional arguments will result in an error\n",
      "  s = librosa.feature.mfcc(x)\n",
      "C:\\Users\\ridan\\AppData\\Local\\Temp\\ipykernel_9084\\170026684.py:4: FutureWarning: Pass y=[-0.00970958 -0.01367993 -0.01074525 ...  0.00661404  0.00681246\n",
      "  0.        ] as keyword args. From version 0.10 passing these as positional arguments will result in an error\n",
      "  s = librosa.feature.mfcc(x)\n",
      "C:\\Users\\ridan\\AppData\\Local\\Temp\\ipykernel_9084\\170026684.py:4: FutureWarning: Pass y=[ 0.00073514  0.00088781  0.00079257 ... -0.01314562 -0.01470051\n",
      "  0.        ] as keyword args. From version 0.10 passing these as positional arguments will result in an error\n",
      "  s = librosa.feature.mfcc(x)\n"
     ]
    },
    {
     "name": "stdout",
     "output_type": "stream",
     "text": [
      "[-0.00156765 -0.00159574 -0.00097773 ...  0.00208448  0.00152613\n",
      "  0.        ]\n",
      "[-7.75697065e-07 -2.71171701e-05 -1.94275454e-05 ... -8.56041228e-04\n",
      " -8.48809344e-04  0.00000000e+00]\n",
      "[-4.62715536e-06 -2.79771122e-05 -1.18708582e-05 ... -1.52919027e-02\n",
      " -1.27041839e-02  0.00000000e+00]\n",
      "[-2.09262289e-05 -9.24887678e-06 -1.70484372e-05 ... -5.36255443e-03\n",
      " -4.08158820e-03  0.00000000e+00]\n",
      "[-2.80329745e-05 -6.14316360e-06 -1.05820055e-05 ... -7.00811507e-03\n",
      " -7.28344979e-03  0.00000000e+00]\n",
      "[-3.30773878e-05  1.16785687e-05  5.58510868e-05 ...  1.59984786e-03\n",
      "  4.45693411e-04  0.00000000e+00]\n",
      "[-5.25774617e-06 -2.53228771e-05 -1.51426080e-05 ... -7.20664325e-03\n",
      " -4.99230883e-03  0.00000000e+00]\n",
      "[-2.92634335e-05 -9.60548552e-06 -1.59101271e-06 ... -1.47197009e-04\n",
      "  3.38305162e-04  0.00000000e+00]\n"
     ]
    },
    {
     "name": "stderr",
     "output_type": "stream",
     "text": [
      "C:\\Users\\ridan\\AppData\\Local\\Temp\\ipykernel_9084\\170026684.py:4: FutureWarning: Pass y=[-0.00156765 -0.00159574 -0.00097773 ...  0.00208448  0.00152613\n",
      "  0.        ] as keyword args. From version 0.10 passing these as positional arguments will result in an error\n",
      "  s = librosa.feature.mfcc(x)\n",
      "C:\\Users\\ridan\\AppData\\Local\\Temp\\ipykernel_9084\\170026684.py:4: FutureWarning: Pass y=[-7.75697065e-07 -2.71171701e-05 -1.94275454e-05 ... -8.56041228e-04\n",
      " -8.48809344e-04  0.00000000e+00] as keyword args. From version 0.10 passing these as positional arguments will result in an error\n",
      "  s = librosa.feature.mfcc(x)\n",
      "C:\\Users\\ridan\\AppData\\Local\\Temp\\ipykernel_9084\\170026684.py:4: FutureWarning: Pass y=[-4.62715536e-06 -2.79771122e-05 -1.18708582e-05 ... -1.52919027e-02\n",
      " -1.27041839e-02  0.00000000e+00] as keyword args. From version 0.10 passing these as positional arguments will result in an error\n",
      "  s = librosa.feature.mfcc(x)\n",
      "C:\\Users\\ridan\\AppData\\Local\\Temp\\ipykernel_9084\\170026684.py:4: FutureWarning: Pass y=[-2.09262289e-05 -9.24887678e-06 -1.70484372e-05 ... -5.36255443e-03\n",
      " -4.08158820e-03  0.00000000e+00] as keyword args. From version 0.10 passing these as positional arguments will result in an error\n",
      "  s = librosa.feature.mfcc(x)\n",
      "C:\\Users\\ridan\\AppData\\Local\\Temp\\ipykernel_9084\\170026684.py:4: FutureWarning: Pass y=[-2.80329745e-05 -6.14316360e-06 -1.05820055e-05 ... -7.00811507e-03\n",
      " -7.28344979e-03  0.00000000e+00] as keyword args. From version 0.10 passing these as positional arguments will result in an error\n",
      "  s = librosa.feature.mfcc(x)\n",
      "C:\\Users\\ridan\\AppData\\Local\\Temp\\ipykernel_9084\\170026684.py:4: FutureWarning: Pass y=[-3.30773878e-05  1.16785687e-05  5.58510868e-05 ...  1.59984786e-03\n",
      "  4.45693411e-04  0.00000000e+00] as keyword args. From version 0.10 passing these as positional arguments will result in an error\n",
      "  s = librosa.feature.mfcc(x)\n",
      "C:\\Users\\ridan\\AppData\\Local\\Temp\\ipykernel_9084\\170026684.py:4: FutureWarning: Pass y=[-5.25774617e-06 -2.53228771e-05 -1.51426080e-05 ... -7.20664325e-03\n",
      " -4.99230883e-03  0.00000000e+00] as keyword args. From version 0.10 passing these as positional arguments will result in an error\n",
      "  s = librosa.feature.mfcc(x)\n",
      "C:\\Users\\ridan\\AppData\\Local\\Temp\\ipykernel_9084\\170026684.py:4: FutureWarning: Pass y=[-2.92634335e-05 -9.60548552e-06 -1.59101271e-06 ... -1.47197009e-04\n",
      "  3.38305162e-04  0.00000000e+00] as keyword args. From version 0.10 passing these as positional arguments will result in an error\n",
      "  s = librosa.feature.mfcc(x)\n"
     ]
    },
    {
     "name": "stdout",
     "output_type": "stream",
     "text": [
      "[2.69977927e-07 2.33487610e-06 1.11109749e-04 ... 5.41599211e-03\n",
      " 5.16001160e-03 0.00000000e+00]\n",
      "[ 6.58535022e-07 -2.17077491e-05 -3.19319988e-05 ...  5.89771799e-03\n",
      "  6.40220700e-03  0.00000000e+00]\n",
      "[-1.53361880e-05  9.43312958e-06  3.93632215e-05 ...  4.89234403e-03\n",
      "  3.23505115e-03  0.00000000e+00]\n",
      "[-0.00052775 -0.00049301 -0.00022638 ...  0.01225444  0.01119297\n",
      "  0.        ]\n",
      "[-2.45179980e-05 -7.32323464e-06 -1.40784640e-05 ...  5.39758887e-03\n",
      "  4.94792823e-03  0.00000000e+00]\n",
      "[-5.05451279e-06 -1.22560649e-06  1.00294758e-05 ... -3.20498411e-03\n",
      " -2.44790822e-03  0.00000000e+00]\n",
      "[ 7.73510885e-06  1.76698674e-06 -2.29223683e-05 ... -6.68736682e-03\n",
      " -6.85729143e-03  0.00000000e+00]\n"
     ]
    },
    {
     "name": "stderr",
     "output_type": "stream",
     "text": [
      "C:\\Users\\ridan\\AppData\\Local\\Temp\\ipykernel_9084\\170026684.py:4: FutureWarning: Pass y=[2.69977927e-07 2.33487610e-06 1.11109749e-04 ... 5.41599211e-03\n",
      " 5.16001160e-03 0.00000000e+00] as keyword args. From version 0.10 passing these as positional arguments will result in an error\n",
      "  s = librosa.feature.mfcc(x)\n",
      "C:\\Users\\ridan\\AppData\\Local\\Temp\\ipykernel_9084\\170026684.py:4: FutureWarning: Pass y=[ 6.58535022e-07 -2.17077491e-05 -3.19319988e-05 ...  5.89771799e-03\n",
      "  6.40220700e-03  0.00000000e+00] as keyword args. From version 0.10 passing these as positional arguments will result in an error\n",
      "  s = librosa.feature.mfcc(x)\n",
      "C:\\Users\\ridan\\AppData\\Local\\Temp\\ipykernel_9084\\170026684.py:4: FutureWarning: Pass y=[-1.53361880e-05  9.43312958e-06  3.93632215e-05 ...  4.89234403e-03\n",
      "  3.23505115e-03  0.00000000e+00] as keyword args. From version 0.10 passing these as positional arguments will result in an error\n",
      "  s = librosa.feature.mfcc(x)\n",
      "C:\\Users\\ridan\\AppData\\Local\\Temp\\ipykernel_9084\\170026684.py:4: FutureWarning: Pass y=[-0.00052775 -0.00049301 -0.00022638 ...  0.01225444  0.01119297\n",
      "  0.        ] as keyword args. From version 0.10 passing these as positional arguments will result in an error\n",
      "  s = librosa.feature.mfcc(x)\n",
      "C:\\Users\\ridan\\AppData\\Local\\Temp\\ipykernel_9084\\170026684.py:4: FutureWarning: Pass y=[-2.45179980e-05 -7.32323464e-06 -1.40784640e-05 ...  5.39758887e-03\n",
      "  4.94792823e-03  0.00000000e+00] as keyword args. From version 0.10 passing these as positional arguments will result in an error\n",
      "  s = librosa.feature.mfcc(x)\n",
      "C:\\Users\\ridan\\AppData\\Local\\Temp\\ipykernel_9084\\170026684.py:4: FutureWarning: Pass y=[-5.05451279e-06 -1.22560649e-06  1.00294758e-05 ... -3.20498411e-03\n",
      " -2.44790822e-03  0.00000000e+00] as keyword args. From version 0.10 passing these as positional arguments will result in an error\n",
      "  s = librosa.feature.mfcc(x)\n",
      "C:\\Users\\ridan\\AppData\\Local\\Temp\\ipykernel_9084\\170026684.py:4: FutureWarning: Pass y=[ 7.73510885e-06  1.76698674e-06 -2.29223683e-05 ... -6.68736682e-03\n",
      " -6.85729143e-03  0.00000000e+00] as keyword args. From version 0.10 passing these as positional arguments will result in an error\n",
      "  s = librosa.feature.mfcc(x)\n"
     ]
    },
    {
     "name": "stdout",
     "output_type": "stream",
     "text": [
      "[ 9.26004539e-06 -1.99640289e-05 -8.14707019e-05 ...  1.44472002e-03\n",
      "  1.56643391e-03  0.00000000e+00]\n",
      "[-0.00447938 -0.00616756 -0.00654972 ...  0.00705702  0.0066308\n",
      "  0.        ]\n",
      "[-1.70497020e-07 -1.96671149e-05 -4.69795232e-05 ...  7.88061525e-03\n",
      "  6.32305211e-03  0.00000000e+00]\n",
      "[-2.44528495e-05 -2.88987762e-07 -4.94437514e-05 ... -6.74906760e-03\n",
      " -6.72193280e-03  0.00000000e+00]\n",
      "[0.00039094 0.0018938  0.00501374 ... 0.00103296 0.00138843 0.        ]\n",
      "[-0.01367801 -0.01972429 -0.01586544 ... -0.00691881 -0.0066567\n",
      "  0.        ]\n"
     ]
    },
    {
     "name": "stderr",
     "output_type": "stream",
     "text": [
      "C:\\Users\\ridan\\AppData\\Local\\Temp\\ipykernel_9084\\170026684.py:4: FutureWarning: Pass y=[ 9.26004539e-06 -1.99640289e-05 -8.14707019e-05 ...  1.44472002e-03\n",
      "  1.56643391e-03  0.00000000e+00] as keyword args. From version 0.10 passing these as positional arguments will result in an error\n",
      "  s = librosa.feature.mfcc(x)\n",
      "C:\\Users\\ridan\\AppData\\Local\\Temp\\ipykernel_9084\\170026684.py:4: FutureWarning: Pass y=[-0.00447938 -0.00616756 -0.00654972 ...  0.00705702  0.0066308\n",
      "  0.        ] as keyword args. From version 0.10 passing these as positional arguments will result in an error\n",
      "  s = librosa.feature.mfcc(x)\n",
      "C:\\Users\\ridan\\AppData\\Local\\Temp\\ipykernel_9084\\170026684.py:4: FutureWarning: Pass y=[-1.70497020e-07 -1.96671149e-05 -4.69795232e-05 ...  7.88061525e-03\n",
      "  6.32305211e-03  0.00000000e+00] as keyword args. From version 0.10 passing these as positional arguments will result in an error\n",
      "  s = librosa.feature.mfcc(x)\n",
      "C:\\Users\\ridan\\AppData\\Local\\Temp\\ipykernel_9084\\170026684.py:4: FutureWarning: Pass y=[-2.44528495e-05 -2.88987762e-07 -4.94437514e-05 ... -6.74906760e-03\n",
      " -6.72193280e-03  0.00000000e+00] as keyword args. From version 0.10 passing these as positional arguments will result in an error\n",
      "  s = librosa.feature.mfcc(x)\n",
      "C:\\Users\\ridan\\AppData\\Local\\Temp\\ipykernel_9084\\170026684.py:4: FutureWarning: Pass y=[0.00039094 0.0018938  0.00501374 ... 0.00103296 0.00138843 0.        ] as keyword args. From version 0.10 passing these as positional arguments will result in an error\n",
      "  s = librosa.feature.mfcc(x)\n",
      "C:\\Users\\ridan\\AppData\\Local\\Temp\\ipykernel_9084\\170026684.py:4: FutureWarning: Pass y=[-0.01367801 -0.01972429 -0.01586544 ... -0.00691881 -0.0066567\n",
      "  0.        ] as keyword args. From version 0.10 passing these as positional arguments will result in an error\n",
      "  s = librosa.feature.mfcc(x)\n"
     ]
    },
    {
     "name": "stdout",
     "output_type": "stream",
     "text": [
      "[-3.23141253e-07 -2.65483307e-05 -2.16204088e-05 ... -1.68884752e-03\n",
      " -3.26884154e-03  0.00000000e+00]\n",
      "[-2.44660494e-05 -8.21248792e-06 -1.34036300e-05 ... -1.08193176e-02\n",
      " -1.03121396e-02  0.00000000e+00]\n",
      "[-1.19776939e-06 -3.98712565e-05 -9.21674717e-05 ... -3.83733556e-03\n",
      " -3.51205994e-03  0.00000000e+00]\n",
      "[-2.89181620e-05 -8.03096077e-06 -7.89485010e-06 ...  2.03314572e-03\n",
      "  2.40101005e-03  1.55536899e-03]\n",
      "[-0.00485171 -0.0058188  -0.00326812 ... -0.00582269 -0.00522547\n",
      "  0.        ]\n",
      "[-2.75256853e-05 -9.04868540e-06 -6.90505084e-06 ...  3.03585236e-05\n",
      "  3.89023488e-06  0.00000000e+00]\n",
      "[-2.55773198e-05 -1.58339635e-05  2.02831983e-05 ...  1.58677959e-03\n",
      "  1.14807051e-03  0.00000000e+00]\n",
      "[-2.31061602e-06 -1.43635971e-05 -5.84242762e-05 ... -5.97768122e-03\n",
      " -6.72702512e-03  0.00000000e+00]\n"
     ]
    },
    {
     "name": "stderr",
     "output_type": "stream",
     "text": [
      "C:\\Users\\ridan\\AppData\\Local\\Temp\\ipykernel_9084\\170026684.py:4: FutureWarning: Pass y=[-3.23141253e-07 -2.65483307e-05 -2.16204088e-05 ... -1.68884752e-03\n",
      " -3.26884154e-03  0.00000000e+00] as keyword args. From version 0.10 passing these as positional arguments will result in an error\n",
      "  s = librosa.feature.mfcc(x)\n",
      "C:\\Users\\ridan\\AppData\\Local\\Temp\\ipykernel_9084\\170026684.py:4: FutureWarning: Pass y=[-2.44660494e-05 -8.21248792e-06 -1.34036300e-05 ... -1.08193176e-02\n",
      " -1.03121396e-02  0.00000000e+00] as keyword args. From version 0.10 passing these as positional arguments will result in an error\n",
      "  s = librosa.feature.mfcc(x)\n",
      "C:\\Users\\ridan\\AppData\\Local\\Temp\\ipykernel_9084\\170026684.py:4: FutureWarning: Pass y=[-1.19776939e-06 -3.98712565e-05 -9.21674717e-05 ... -3.83733556e-03\n",
      " -3.51205994e-03  0.00000000e+00] as keyword args. From version 0.10 passing these as positional arguments will result in an error\n",
      "  s = librosa.feature.mfcc(x)\n",
      "C:\\Users\\ridan\\AppData\\Local\\Temp\\ipykernel_9084\\170026684.py:4: FutureWarning: Pass y=[-2.89181620e-05 -8.03096077e-06 -7.89485010e-06 ...  2.03314572e-03\n",
      "  2.40101005e-03  1.55536899e-03] as keyword args. From version 0.10 passing these as positional arguments will result in an error\n",
      "  s = librosa.feature.mfcc(x)\n",
      "C:\\Users\\ridan\\AppData\\Local\\Temp\\ipykernel_9084\\170026684.py:4: FutureWarning: Pass y=[-0.00485171 -0.0058188  -0.00326812 ... -0.00582269 -0.00522547\n",
      "  0.        ] as keyword args. From version 0.10 passing these as positional arguments will result in an error\n",
      "  s = librosa.feature.mfcc(x)\n",
      "C:\\Users\\ridan\\AppData\\Local\\Temp\\ipykernel_9084\\170026684.py:4: FutureWarning: Pass y=[-2.75256853e-05 -9.04868540e-06 -6.90505084e-06 ...  3.03585236e-05\n",
      "  3.89023488e-06  0.00000000e+00] as keyword args. From version 0.10 passing these as positional arguments will result in an error\n",
      "  s = librosa.feature.mfcc(x)\n",
      "C:\\Users\\ridan\\AppData\\Local\\Temp\\ipykernel_9084\\170026684.py:4: FutureWarning: Pass y=[-2.55773198e-05 -1.58339635e-05  2.02831983e-05 ...  1.58677959e-03\n",
      "  1.14807051e-03  0.00000000e+00] as keyword args. From version 0.10 passing these as positional arguments will result in an error\n",
      "  s = librosa.feature.mfcc(x)\n",
      "C:\\Users\\ridan\\AppData\\Local\\Temp\\ipykernel_9084\\170026684.py:4: FutureWarning: Pass y=[-2.31061602e-06 -1.43635971e-05 -5.84242762e-05 ... -5.97768122e-03\n",
      " -6.72702512e-03  0.00000000e+00] as keyword args. From version 0.10 passing these as positional arguments will result in an error\n",
      "  s = librosa.feature.mfcc(x)\n"
     ]
    },
    {
     "name": "stdout",
     "output_type": "stream",
     "text": [
      "[-2.78293687e-05 -7.15354428e-06 -9.15594340e-06 ...  1.35251737e-03\n",
      "  1.02269493e-03  0.00000000e+00]\n",
      "[-1.71155667e-06 -2.08233314e-05 -4.26414543e-05 ...  1.91449940e-03\n",
      "  1.44449851e-03  0.00000000e+00]\n",
      "[-2.25373776e-05 -7.92065153e-06 -1.64233217e-05 ...  9.43571086e-04\n",
      "  1.49404085e-03  0.00000000e+00]\n",
      "[-7.32642203e-07 -1.69040781e-05 -4.95465150e-05 ... -4.03706695e-03\n",
      " -3.77898683e-03  0.00000000e+00]\n",
      "[ 3.29771180e-06 -1.56686827e-05 -7.24175267e-05 ...  2.66958552e-03\n",
      "  2.52359905e-03  0.00000000e+00]\n",
      "[-2.55636140e-05 -8.68005176e-06 -7.65326683e-06 ...  5.29972716e-04\n",
      "  6.87320169e-04  0.00000000e+00]\n",
      "[-1.11914173e-06 -4.69920586e-05 -6.68255725e-05 ... -2.59875181e-03\n",
      " -4.13788268e-03  0.00000000e+00]\n",
      "[-5.59881784e-06 -2.59613271e-05 -1.37691296e-05 ...  5.84504134e-03\n",
      "  5.34891005e-03  0.00000000e+00]\n",
      "[-2.80148376e-05 -1.39210157e-05  1.58725192e-05 ... -4.95998491e-03\n",
      " -7.37601175e-03  0.00000000e+00]\n",
      "[-2.67204049e-05 -9.48399150e-06 -5.43603698e-06 ... -5.06284544e-03\n",
      " -5.36608580e-03  0.00000000e+00]\n"
     ]
    },
    {
     "name": "stderr",
     "output_type": "stream",
     "text": [
      "C:\\Users\\ridan\\AppData\\Local\\Temp\\ipykernel_9084\\170026684.py:4: FutureWarning: Pass y=[-2.78293687e-05 -7.15354428e-06 -9.15594340e-06 ...  1.35251737e-03\n",
      "  1.02269493e-03  0.00000000e+00] as keyword args. From version 0.10 passing these as positional arguments will result in an error\n",
      "  s = librosa.feature.mfcc(x)\n",
      "C:\\Users\\ridan\\AppData\\Local\\Temp\\ipykernel_9084\\170026684.py:4: FutureWarning: Pass y=[-1.71155667e-06 -2.08233314e-05 -4.26414543e-05 ...  1.91449940e-03\n",
      "  1.44449851e-03  0.00000000e+00] as keyword args. From version 0.10 passing these as positional arguments will result in an error\n",
      "  s = librosa.feature.mfcc(x)\n",
      "C:\\Users\\ridan\\AppData\\Local\\Temp\\ipykernel_9084\\170026684.py:4: FutureWarning: Pass y=[-2.25373776e-05 -7.92065153e-06 -1.64233217e-05 ...  9.43571086e-04\n",
      "  1.49404085e-03  0.00000000e+00] as keyword args. From version 0.10 passing these as positional arguments will result in an error\n",
      "  s = librosa.feature.mfcc(x)\n",
      "C:\\Users\\ridan\\AppData\\Local\\Temp\\ipykernel_9084\\170026684.py:4: FutureWarning: Pass y=[-7.32642203e-07 -1.69040781e-05 -4.95465150e-05 ... -4.03706695e-03\n",
      " -3.77898683e-03  0.00000000e+00] as keyword args. From version 0.10 passing these as positional arguments will result in an error\n",
      "  s = librosa.feature.mfcc(x)\n",
      "C:\\Users\\ridan\\AppData\\Local\\Temp\\ipykernel_9084\\170026684.py:4: FutureWarning: Pass y=[ 3.29771180e-06 -1.56686827e-05 -7.24175267e-05 ...  2.66958552e-03\n",
      "  2.52359905e-03  0.00000000e+00] as keyword args. From version 0.10 passing these as positional arguments will result in an error\n",
      "  s = librosa.feature.mfcc(x)\n",
      "C:\\Users\\ridan\\AppData\\Local\\Temp\\ipykernel_9084\\170026684.py:4: FutureWarning: Pass y=[-2.55636140e-05 -8.68005176e-06 -7.65326683e-06 ...  5.29972716e-04\n",
      "  6.87320169e-04  0.00000000e+00] as keyword args. From version 0.10 passing these as positional arguments will result in an error\n",
      "  s = librosa.feature.mfcc(x)\n",
      "C:\\Users\\ridan\\AppData\\Local\\Temp\\ipykernel_9084\\170026684.py:4: FutureWarning: Pass y=[-1.11914173e-06 -4.69920586e-05 -6.68255725e-05 ... -2.59875181e-03\n",
      " -4.13788268e-03  0.00000000e+00] as keyword args. From version 0.10 passing these as positional arguments will result in an error\n",
      "  s = librosa.feature.mfcc(x)\n",
      "C:\\Users\\ridan\\AppData\\Local\\Temp\\ipykernel_9084\\170026684.py:4: FutureWarning: Pass y=[-5.59881784e-06 -2.59613271e-05 -1.37691296e-05 ...  5.84504134e-03\n",
      "  5.34891005e-03  0.00000000e+00] as keyword args. From version 0.10 passing these as positional arguments will result in an error\n",
      "  s = librosa.feature.mfcc(x)\n",
      "C:\\Users\\ridan\\AppData\\Local\\Temp\\ipykernel_9084\\170026684.py:4: FutureWarning: Pass y=[-2.80148376e-05 -1.39210157e-05  1.58725192e-05 ... -4.95998491e-03\n",
      " -7.37601175e-03  0.00000000e+00] as keyword args. From version 0.10 passing these as positional arguments will result in an error\n",
      "  s = librosa.feature.mfcc(x)\n",
      "C:\\Users\\ridan\\AppData\\Local\\Temp\\ipykernel_9084\\170026684.py:4: FutureWarning: Pass y=[-2.67204049e-05 -9.48399150e-06 -5.43603698e-06 ... -5.06284544e-03\n",
      " -5.36608580e-03  0.00000000e+00] as keyword args. From version 0.10 passing these as positional arguments will result in an error\n",
      "  s = librosa.feature.mfcc(x)\n"
     ]
    },
    {
     "name": "stdout",
     "output_type": "stream",
     "text": [
      "[-1.70279524e-05 -4.84887017e-05 -1.32777291e-04 ...  9.41878590e-04\n",
      " -4.63756986e-04  0.00000000e+00]\n",
      "[-2.74397079e-05  1.07623364e-05 -4.72573253e-05 ... -1.65048207e-04\n",
      " -3.33755457e-04  0.00000000e+00]\n",
      "[-2.71562463e-05 -1.04218541e-05 -4.06108770e-06 ... -2.46386697e-03\n",
      " -2.07866714e-03  0.00000000e+00]\n",
      "[-5.55075708e-06 -2.50063463e-05 -1.53412118e-05 ...  1.92547876e-02\n",
      "  1.42131711e-02  0.00000000e+00]\n",
      "[-2.54459610e-06 -3.05897803e-05 -1.28717751e-05 ... -1.57058464e-03\n",
      " -1.40785029e-03  0.00000000e+00]\n",
      "[-2.99207911e-05 -1.44630091e-05  2.68398167e-05 ... -2.47727558e-03\n",
      " -2.51731523e-03  0.00000000e+00]\n",
      "[-3.23851632e-05 -1.42885712e-05  5.78500203e-06 ...  2.53354417e-03\n",
      "  2.55673063e-03  0.00000000e+00]\n",
      "[ 1.49993489e-06 -1.83097831e-05 -5.90916132e-05 ... -7.13567980e-03\n",
      " -4.69616994e-03  0.00000000e+00]\n",
      "[-2.42891949e-05 -8.02129974e-06 -1.39457267e-05 ...  2.34020633e-03\n",
      "  2.08441826e-03  0.00000000e+00]\n",
      "[-2.78398650e-06 -2.08397960e-05 -4.09814868e-05 ... -9.00579495e-04\n",
      " -1.20353621e-03  0.00000000e+00]\n",
      "[-0.00033212 -0.00055726 -0.00056699 ... -0.00848776 -0.00587791\n",
      " -0.00251802]\n"
     ]
    },
    {
     "name": "stderr",
     "output_type": "stream",
     "text": [
      "C:\\Users\\ridan\\AppData\\Local\\Temp\\ipykernel_9084\\170026684.py:4: FutureWarning: Pass y=[-1.70279524e-05 -4.84887017e-05 -1.32777291e-04 ...  9.41878590e-04\n",
      " -4.63756986e-04  0.00000000e+00] as keyword args. From version 0.10 passing these as positional arguments will result in an error\n",
      "  s = librosa.feature.mfcc(x)\n",
      "C:\\Users\\ridan\\AppData\\Local\\Temp\\ipykernel_9084\\170026684.py:4: FutureWarning: Pass y=[-2.74397079e-05  1.07623364e-05 -4.72573253e-05 ... -1.65048207e-04\n",
      " -3.33755457e-04  0.00000000e+00] as keyword args. From version 0.10 passing these as positional arguments will result in an error\n",
      "  s = librosa.feature.mfcc(x)\n",
      "C:\\Users\\ridan\\AppData\\Local\\Temp\\ipykernel_9084\\170026684.py:4: FutureWarning: Pass y=[-2.71562463e-05 -1.04218541e-05 -4.06108770e-06 ... -2.46386697e-03\n",
      " -2.07866714e-03  0.00000000e+00] as keyword args. From version 0.10 passing these as positional arguments will result in an error\n",
      "  s = librosa.feature.mfcc(x)\n",
      "C:\\Users\\ridan\\AppData\\Local\\Temp\\ipykernel_9084\\170026684.py:4: FutureWarning: Pass y=[-5.55075708e-06 -2.50063463e-05 -1.53412118e-05 ...  1.92547876e-02\n",
      "  1.42131711e-02  0.00000000e+00] as keyword args. From version 0.10 passing these as positional arguments will result in an error\n",
      "  s = librosa.feature.mfcc(x)\n",
      "C:\\Users\\ridan\\AppData\\Local\\Temp\\ipykernel_9084\\170026684.py:4: FutureWarning: Pass y=[-2.54459610e-06 -3.05897803e-05 -1.28717751e-05 ... -1.57058464e-03\n",
      " -1.40785029e-03  0.00000000e+00] as keyword args. From version 0.10 passing these as positional arguments will result in an error\n",
      "  s = librosa.feature.mfcc(x)\n",
      "C:\\Users\\ridan\\AppData\\Local\\Temp\\ipykernel_9084\\170026684.py:4: FutureWarning: Pass y=[-2.99207911e-05 -1.44630091e-05  2.68398167e-05 ... -2.47727558e-03\n",
      " -2.51731523e-03  0.00000000e+00] as keyword args. From version 0.10 passing these as positional arguments will result in an error\n",
      "  s = librosa.feature.mfcc(x)\n",
      "C:\\Users\\ridan\\AppData\\Local\\Temp\\ipykernel_9084\\170026684.py:4: FutureWarning: Pass y=[-3.23851632e-05 -1.42885712e-05  5.78500203e-06 ...  2.53354417e-03\n",
      "  2.55673063e-03  0.00000000e+00] as keyword args. From version 0.10 passing these as positional arguments will result in an error\n",
      "  s = librosa.feature.mfcc(x)\n",
      "C:\\Users\\ridan\\AppData\\Local\\Temp\\ipykernel_9084\\170026684.py:4: FutureWarning: Pass y=[ 1.49993489e-06 -1.83097831e-05 -5.90916132e-05 ... -7.13567980e-03\n",
      " -4.69616994e-03  0.00000000e+00] as keyword args. From version 0.10 passing these as positional arguments will result in an error\n",
      "  s = librosa.feature.mfcc(x)\n",
      "C:\\Users\\ridan\\AppData\\Local\\Temp\\ipykernel_9084\\170026684.py:4: FutureWarning: Pass y=[-2.42891949e-05 -8.02129974e-06 -1.39457267e-05 ...  2.34020633e-03\n",
      "  2.08441826e-03  0.00000000e+00] as keyword args. From version 0.10 passing these as positional arguments will result in an error\n",
      "  s = librosa.feature.mfcc(x)\n",
      "C:\\Users\\ridan\\AppData\\Local\\Temp\\ipykernel_9084\\170026684.py:4: FutureWarning: Pass y=[-2.78398650e-06 -2.08397960e-05 -4.09814868e-05 ... -9.00579495e-04\n",
      " -1.20353621e-03  0.00000000e+00] as keyword args. From version 0.10 passing these as positional arguments will result in an error\n",
      "  s = librosa.feature.mfcc(x)\n",
      "C:\\Users\\ridan\\AppData\\Local\\Temp\\ipykernel_9084\\170026684.py:4: FutureWarning: Pass y=[-0.00033212 -0.00055726 -0.00056699 ... -0.00848776 -0.00587791\n",
      " -0.00251802] as keyword args. From version 0.10 passing these as positional arguments will result in an error\n",
      "  s = librosa.feature.mfcc(x)\n"
     ]
    },
    {
     "name": "stdout",
     "output_type": "stream",
     "text": [
      "[-2.66936224e-05 -1.28307319e-04 -2.84671956e-04 ...  1.25555676e-03\n",
      "  2.89047345e-03  2.15714882e-03]\n",
      "[0.00064027 0.00104694 0.00132295 ... 0.00355002 0.00470474 0.        ]\n",
      "[8.92783863e-04 6.53323043e-04 6.86344679e-05 ... 1.13189847e-02\n",
      " 7.93762812e-03 0.00000000e+00]\n",
      "[-0.00312681 -0.00356038 -0.00294208 ...  0.00577172  0.00429208\n",
      "  0.        ]\n",
      "[-0.00064354 -0.00091749 -0.00093825 ... -0.00989938 -0.00989098\n",
      "  0.        ]\n"
     ]
    },
    {
     "name": "stderr",
     "output_type": "stream",
     "text": [
      "C:\\Users\\ridan\\AppData\\Local\\Temp\\ipykernel_9084\\170026684.py:4: FutureWarning: Pass y=[-2.66936224e-05 -1.28307319e-04 -2.84671956e-04 ...  1.25555676e-03\n",
      "  2.89047345e-03  2.15714882e-03] as keyword args. From version 0.10 passing these as positional arguments will result in an error\n",
      "  s = librosa.feature.mfcc(x)\n",
      "C:\\Users\\ridan\\AppData\\Local\\Temp\\ipykernel_9084\\170026684.py:4: FutureWarning: Pass y=[0.00064027 0.00104694 0.00132295 ... 0.00355002 0.00470474 0.        ] as keyword args. From version 0.10 passing these as positional arguments will result in an error\n",
      "  s = librosa.feature.mfcc(x)\n",
      "C:\\Users\\ridan\\AppData\\Local\\Temp\\ipykernel_9084\\170026684.py:4: FutureWarning: Pass y=[8.92783863e-04 6.53323043e-04 6.86344679e-05 ... 1.13189847e-02\n",
      " 7.93762812e-03 0.00000000e+00] as keyword args. From version 0.10 passing these as positional arguments will result in an error\n",
      "  s = librosa.feature.mfcc(x)\n",
      "C:\\Users\\ridan\\AppData\\Local\\Temp\\ipykernel_9084\\170026684.py:4: FutureWarning: Pass y=[-0.00312681 -0.00356038 -0.00294208 ...  0.00577172  0.00429208\n",
      "  0.        ] as keyword args. From version 0.10 passing these as positional arguments will result in an error\n",
      "  s = librosa.feature.mfcc(x)\n",
      "C:\\Users\\ridan\\AppData\\Local\\Temp\\ipykernel_9084\\170026684.py:4: FutureWarning: Pass y=[-0.00064354 -0.00091749 -0.00093825 ... -0.00989938 -0.00989098\n",
      "  0.        ] as keyword args. From version 0.10 passing these as positional arguments will result in an error\n",
      "  s = librosa.feature.mfcc(x)\n"
     ]
    },
    {
     "name": "stdout",
     "output_type": "stream",
     "text": [
      "[-2.86197464e-05 -3.60157408e-05 -1.89643702e-05 ...  7.15605610e-02\n",
      "  6.94103353e-02  0.00000000e+00]\n"
     ]
    },
    {
     "name": "stderr",
     "output_type": "stream",
     "text": [
      "C:\\Users\\ridan\\AppData\\Local\\Temp\\ipykernel_9084\\170026684.py:4: FutureWarning: Pass y=[-2.86197464e-05 -3.60157408e-05 -1.89643702e-05 ...  7.15605610e-02\n",
      "  6.94103353e-02  0.00000000e+00] as keyword args. From version 0.10 passing these as positional arguments will result in an error\n",
      "  s = librosa.feature.mfcc(x)\n"
     ]
    }
   ],
   "source": [
    "data = []\n",
    "for x in dataset:\n",
    "    print(x)\n",
    "    s = librosa.feature.mfcc(x)\n",
    "    data.append(s)\n"
   ]
  },
  {
   "cell_type": "code",
   "execution_count": 201,
   "metadata": {},
   "outputs": [
    {
     "name": "stdout",
     "output_type": "stream",
     "text": [
      "28\n",
      "C:/Users/ridan/Documents/2022.1/Sistema-Inteligente/Desafio3/dataset/test/cat\n",
      "28\n",
      "C:/Users/ridan/Documents/2022.1/Sistema-Inteligente/Desafio3/dataset/test/dog\n"
     ]
    }
   ],
   "source": [
    "audioPaths2 = []\n",
    "for k, category in enumerate(categories):\n",
    "    print(cont)\n",
    "    cont = 0\n",
    "    path_category = os.path.join(DATASET_PATH2 + '/' + category)\n",
    "    print(path_category)\n",
    "    for f in os.listdir(path_category):\n",
    "        if cont < 28:\n",
    "            cont += 1\n",
    "            audioPaths2.append([os.path.join(path_category + '/' + f), k]) # k=0 : 'cat', k=1 : 'dog',"
   ]
  },
  {
   "cell_type": "code",
   "execution_count": 203,
   "metadata": {},
   "outputs": [
    {
     "name": "stderr",
     "output_type": "stream",
     "text": [
      "C:\\Users\\ridan\\AppData\\Local\\Temp\\ipykernel_9084\\3662441728.py:6: VisibleDeprecationWarning: Creating an ndarray from ragged nested sequences (which is a list-or-tuple of lists-or-tuples-or ndarrays with different lengths or shapes) is deprecated. If you meant to do this, you must specify 'dtype=object' when creating the ndarray.\n",
      "  audio, sr = np.array(librosa.load(str(audioPath[0]), dtype='float64'))\n"
     ]
    }
   ],
   "source": [
    "dataset2 = []\n",
    "srs2 = []\n",
    "label2 = []\n",
    "for audioPath in audioPaths2:\n",
    "    # print(str(audioPath)[1:-1])\n",
    "    audio, sr = np.array(librosa.load(str(audioPath[0]), dtype='float64'))\n",
    "    srs2.append(sr)\n",
    "    dataset2.append(audio)\n",
    "\n",
    "    labels = audioPath[1]\n",
    "    label2.append(labels)"
   ]
  },
  {
   "cell_type": "code",
   "execution_count": null,
   "metadata": {},
   "outputs": [],
   "source": [
    "data = []\n",
    "for x in dataset:\n",
    "    print(x)\n",
    "    s = librosa.feature.mfcc(x)\n",
    "    data.append(s)"
   ]
  }
 ],
 "metadata": {
  "kernelspec": {
   "display_name": "Python 3.10.5 ('venv': venv)",
   "language": "python",
   "name": "python3"
  },
  "language_info": {
   "codemirror_mode": {
    "name": "ipython",
    "version": 3
   },
   "file_extension": ".py",
   "mimetype": "text/x-python",
   "name": "python",
   "nbconvert_exporter": "python",
   "pygments_lexer": "ipython3",
   "version": "3.10.5"
  },
  "orig_nbformat": 4,
  "vscode": {
   "interpreter": {
    "hash": "13befc749238520c776026cfbddc251bc956db375472fc6f8f4c9ceea147297b"
   }
  }
 },
 "nbformat": 4,
 "nbformat_minor": 2
}
