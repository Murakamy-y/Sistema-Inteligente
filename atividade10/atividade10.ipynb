{
 "cells": [
  {
   "cell_type": "markdown",
   "metadata": {},
   "source": [
    "Atividade(0−4): Treine uma RNN para para prever uma música:\n",
    "\n",
    "Criar uma etapa de pré-processamento onde os cabeçalhos do arquivos .abc serão desprezados e a rede será treinada apenas com a melodia da música;\n",
    "Variar os parâmetros e arquitetura da rede e comparar as acurácias de treinamento e validação:\n",
    "Aumentar as amostras de treinamento;\n",
    "Variar o tamanho da sequência: [25 -150]\n",
    "Variar as épocas de treinamento\n",
    "Variar o número de neurônios da camada LSTM: [1024-2048]\n",
    "Aumentar o número de camadas LSTM.\n",
    "Add camada de dropout\n",
    "Extrapolar o modelo gerado para um novo dataset e apresentar a música estimada para os novos dados: http://abc.sourceforge.net/NMD/"
   ]
  },
  {
   "cell_type": "code",
   "execution_count": 4,
   "metadata": {},
   "outputs": [],
   "source": [
    "#Dependências\n",
    "#pip install mitdeeplearning\n",
    "#apt-get install abcmidi\n",
    "#apt-get install timidity\n",
    "# import mitdeeplearning.lab1 as mit\n",
    "import os\n",
    "from IPython import display as ipythondisplay\n",
    "import numpy as np\n",
    "from tensorflow import keras\n",
    "import tensorflow as tf \n",
    "from keras.models import Sequential\n",
    "from keras.layers import Dense, LSTM\n",
    "import matplotlib.pyplot as plt\n",
    "import regex as re"
   ]
  },
  {
   "cell_type": "code",
   "execution_count": 5,
   "metadata": {},
   "outputs": [],
   "source": [
    "path = \"C:/Users/Bryan/Documents/2022.2/Sistemas Inteligentes/Sistema-Inteligente/atividade10/ABC_original\"\n",
    "DATASET_PATH = os.path.join( path, 'hpps.abc')"
   ]
  },
  {
   "cell_type": "code",
   "execution_count": 6,
   "metadata": {},
   "outputs": [
    {
     "name": "stdout",
     "output_type": "stream",
     "text": [
      "C:/Users/Bryan/Documents/2022.2/Sistemas Inteligentes/Sistema-Inteligente/atividade10/ABC_original\\hpps.abc\n"
     ]
    }
   ],
   "source": [
    "print(DATASET_PATH)"
   ]
  }
 ],
 "metadata": {
  "kernelspec": {
   "display_name": "Python 3.10.4 ('venv': venv)",
   "language": "python",
   "name": "python3"
  },
  "language_info": {
   "codemirror_mode": {
    "name": "ipython",
    "version": 3
   },
   "file_extension": ".py",
   "mimetype": "text/x-python",
   "name": "python",
   "nbconvert_exporter": "python",
   "pygments_lexer": "ipython3",
   "version": "3.10.4"
  },
  "orig_nbformat": 4,
  "vscode": {
   "interpreter": {
    "hash": "e8fe365c2478cd2faad862e72d524164763f496046985b24037852e54a01c190"
   }
  }
 },
 "nbformat": 4,
 "nbformat_minor": 2
}
