{
 "cells": [
  {
   "cell_type": "markdown",
   "metadata": {},
   "source": [
    "$Atividade (1.25):$ Treine uma MLP no conjunto de dados MNIST e veja se você consegue obter mais de 98% de precisão. Dica: faça a aquisição dos dados usando o Keras (keras.datasets.mnist.load_data())."
   ]
  },
  {
   "cell_type": "markdown",
   "metadata": {},
   "source": [
    "## Importando as bibliotecas"
   ]
  },
  {
   "cell_type": "code",
   "execution_count": 225,
   "metadata": {},
   "outputs": [],
   "source": [
    "import pandas as pd\n",
    "import numpy as np\n",
    "import matplotlib.pyplot as plt\n",
    "import tensorflow as tf #back-end\n",
    "from tensorflow import keras #front-end"
   ]
  },
  {
   "cell_type": "markdown",
   "metadata": {},
   "source": [
    "## 1. Aquisição de dados"
   ]
  },
  {
   "cell_type": "code",
   "execution_count": 226,
   "metadata": {},
   "outputs": [
    {
     "data": {
      "text/plain": [
       "((array([[[0, 0, 0, ..., 0, 0, 0],\n",
       "          [0, 0, 0, ..., 0, 0, 0],\n",
       "          [0, 0, 0, ..., 0, 0, 0],\n",
       "          ...,\n",
       "          [0, 0, 0, ..., 0, 0, 0],\n",
       "          [0, 0, 0, ..., 0, 0, 0],\n",
       "          [0, 0, 0, ..., 0, 0, 0]],\n",
       "  \n",
       "         [[0, 0, 0, ..., 0, 0, 0],\n",
       "          [0, 0, 0, ..., 0, 0, 0],\n",
       "          [0, 0, 0, ..., 0, 0, 0],\n",
       "          ...,\n",
       "          [0, 0, 0, ..., 0, 0, 0],\n",
       "          [0, 0, 0, ..., 0, 0, 0],\n",
       "          [0, 0, 0, ..., 0, 0, 0]],\n",
       "  \n",
       "         [[0, 0, 0, ..., 0, 0, 0],\n",
       "          [0, 0, 0, ..., 0, 0, 0],\n",
       "          [0, 0, 0, ..., 0, 0, 0],\n",
       "          ...,\n",
       "          [0, 0, 0, ..., 0, 0, 0],\n",
       "          [0, 0, 0, ..., 0, 0, 0],\n",
       "          [0, 0, 0, ..., 0, 0, 0]],\n",
       "  \n",
       "         ...,\n",
       "  \n",
       "         [[0, 0, 0, ..., 0, 0, 0],\n",
       "          [0, 0, 0, ..., 0, 0, 0],\n",
       "          [0, 0, 0, ..., 0, 0, 0],\n",
       "          ...,\n",
       "          [0, 0, 0, ..., 0, 0, 0],\n",
       "          [0, 0, 0, ..., 0, 0, 0],\n",
       "          [0, 0, 0, ..., 0, 0, 0]],\n",
       "  \n",
       "         [[0, 0, 0, ..., 0, 0, 0],\n",
       "          [0, 0, 0, ..., 0, 0, 0],\n",
       "          [0, 0, 0, ..., 0, 0, 0],\n",
       "          ...,\n",
       "          [0, 0, 0, ..., 0, 0, 0],\n",
       "          [0, 0, 0, ..., 0, 0, 0],\n",
       "          [0, 0, 0, ..., 0, 0, 0]],\n",
       "  \n",
       "         [[0, 0, 0, ..., 0, 0, 0],\n",
       "          [0, 0, 0, ..., 0, 0, 0],\n",
       "          [0, 0, 0, ..., 0, 0, 0],\n",
       "          ...,\n",
       "          [0, 0, 0, ..., 0, 0, 0],\n",
       "          [0, 0, 0, ..., 0, 0, 0],\n",
       "          [0, 0, 0, ..., 0, 0, 0]]], dtype=uint8),\n",
       "  array([5, 0, 4, ..., 5, 6, 8], dtype=uint8)),\n",
       " (array([[[0, 0, 0, ..., 0, 0, 0],\n",
       "          [0, 0, 0, ..., 0, 0, 0],\n",
       "          [0, 0, 0, ..., 0, 0, 0],\n",
       "          ...,\n",
       "          [0, 0, 0, ..., 0, 0, 0],\n",
       "          [0, 0, 0, ..., 0, 0, 0],\n",
       "          [0, 0, 0, ..., 0, 0, 0]],\n",
       "  \n",
       "         [[0, 0, 0, ..., 0, 0, 0],\n",
       "          [0, 0, 0, ..., 0, 0, 0],\n",
       "          [0, 0, 0, ..., 0, 0, 0],\n",
       "          ...,\n",
       "          [0, 0, 0, ..., 0, 0, 0],\n",
       "          [0, 0, 0, ..., 0, 0, 0],\n",
       "          [0, 0, 0, ..., 0, 0, 0]],\n",
       "  \n",
       "         [[0, 0, 0, ..., 0, 0, 0],\n",
       "          [0, 0, 0, ..., 0, 0, 0],\n",
       "          [0, 0, 0, ..., 0, 0, 0],\n",
       "          ...,\n",
       "          [0, 0, 0, ..., 0, 0, 0],\n",
       "          [0, 0, 0, ..., 0, 0, 0],\n",
       "          [0, 0, 0, ..., 0, 0, 0]],\n",
       "  \n",
       "         ...,\n",
       "  \n",
       "         [[0, 0, 0, ..., 0, 0, 0],\n",
       "          [0, 0, 0, ..., 0, 0, 0],\n",
       "          [0, 0, 0, ..., 0, 0, 0],\n",
       "          ...,\n",
       "          [0, 0, 0, ..., 0, 0, 0],\n",
       "          [0, 0, 0, ..., 0, 0, 0],\n",
       "          [0, 0, 0, ..., 0, 0, 0]],\n",
       "  \n",
       "         [[0, 0, 0, ..., 0, 0, 0],\n",
       "          [0, 0, 0, ..., 0, 0, 0],\n",
       "          [0, 0, 0, ..., 0, 0, 0],\n",
       "          ...,\n",
       "          [0, 0, 0, ..., 0, 0, 0],\n",
       "          [0, 0, 0, ..., 0, 0, 0],\n",
       "          [0, 0, 0, ..., 0, 0, 0]],\n",
       "  \n",
       "         [[0, 0, 0, ..., 0, 0, 0],\n",
       "          [0, 0, 0, ..., 0, 0, 0],\n",
       "          [0, 0, 0, ..., 0, 0, 0],\n",
       "          ...,\n",
       "          [0, 0, 0, ..., 0, 0, 0],\n",
       "          [0, 0, 0, ..., 0, 0, 0],\n",
       "          [0, 0, 0, ..., 0, 0, 0]]], dtype=uint8),\n",
       "  array([7, 2, 1, ..., 4, 5, 6], dtype=uint8)))"
      ]
     },
     "execution_count": 226,
     "metadata": {},
     "output_type": "execute_result"
    }
   ],
   "source": [
    "tf.keras.datasets.mnist.load_data(path=\"mnist.npz\")"
   ]
  },
  {
   "cell_type": "code",
   "execution_count": 227,
   "metadata": {},
   "outputs": [],
   "source": [
    "(X_train, y_train), (X_test, y_test) = keras.datasets.mnist.load_data()"
   ]
  },
  {
   "cell_type": "code",
   "execution_count": 228,
   "metadata": {},
   "outputs": [
    {
     "data": {
      "text/plain": [
       "(60000, 28, 28)"
      ]
     },
     "execution_count": 228,
     "metadata": {},
     "output_type": "execute_result"
    }
   ],
   "source": [
    "X_train.shape"
   ]
  },
  {
   "cell_type": "code",
   "execution_count": 229,
   "metadata": {},
   "outputs": [
    {
     "data": {
      "text/plain": [
       "(10000, 28, 28)"
      ]
     },
     "execution_count": 229,
     "metadata": {},
     "output_type": "execute_result"
    }
   ],
   "source": [
    "X_test.shape"
   ]
  },
  {
   "cell_type": "code",
   "execution_count": 230,
   "metadata": {},
   "outputs": [
    {
     "data": {
      "image/png": "[encoded data removed]",
      "text/plain": [
       "<Figure size 432x288 with 1 Axes>"
      ]
     },
     "metadata": {
      "needs_background": "light"
     },
     "output_type": "display_data"
    }
   ],
   "source": [
    "plt.imshow(X_train[1], cmap=\"binary\")\n",
    "plt.axis('off')\n",
    "plt.show()"
   ]
  },
  {
   "cell_type": "code",
   "execution_count": 231,
   "metadata": {},
   "outputs": [
    {
     "data": {
      "text/plain": [
       "array([5, 0, 4, ..., 5, 6, 8], dtype=uint8)"
      ]
     },
     "execution_count": 231,
     "metadata": {},
     "output_type": "execute_result"
    }
   ],
   "source": [
    "y_train"
   ]
  },
  {
   "cell_type": "markdown",
   "metadata": {},
   "source": [
    "## 2. Pré-processamento"
   ]
  },
  {
   "cell_type": "code",
   "execution_count": 232,
   "metadata": {},
   "outputs": [],
   "source": [
    "X_valid, X_train = X_train[:5000] / 255., X_train[5000:] / 255.\n",
    "y_valid, y_train = y_train[:5000], y_train[5000:] \n",
    "X_test = X_test / 255."
   ]
  },
  {
   "cell_type": "markdown",
   "metadata": {},
   "source": [
    "## 3. Construindo a arquitetura"
   ]
  },
  {
   "cell_type": "code",
   "execution_count": 233,
   "metadata": {},
   "outputs": [],
   "source": [
    "model = keras.models.Sequential()\n",
    "model.add(keras.layers.Flatten(input_shape=[28, 28]))\n",
    "model.add(keras.layers.Dense(300, activation=\"relu\"))\n",
    "model.add(keras.layers.Dense(100, activation=\"relu\"))\n",
    "model.add(keras.layers.Dense(10, activation=\"softmax\"))"
   ]
  },
  {
   "cell_type": "code",
   "execution_count": 234,
   "metadata": {},
   "outputs": [
    {
     "data": {
      "text/plain": [
       "<keras.engine.sequential.Sequential at 0x1944e89af80>"
      ]
     },
     "execution_count": 234,
     "metadata": {},
     "output_type": "execute_result"
    }
   ],
   "source": [
    "model"
   ]
  },
  {
   "cell_type": "code",
   "execution_count": 235,
   "metadata": {},
   "outputs": [
    {
     "name": "stdout",
     "output_type": "stream",
     "text": [
      "Model: \"sequential_7\"\n",
      "_________________________________________________________________\n",
      " Layer (type)                Output Shape              Param #   \n",
      "=================================================================\n",
      " flatten_7 (Flatten)         (None, 784)               0         \n",
      "                                                                 \n",
      " dense_21 (Dense)            (None, 300)               235500    \n",
      "                                                                 \n",
      " dense_22 (Dense)            (None, 100)               30100     \n",
      "                                                                 \n",
      " dense_23 (Dense)            (None, 10)                1010      \n",
      "                                                                 \n",
      "=================================================================\n",
      "Total params: 266,610\n",
      "Trainable params: 266,610\n",
      "Non-trainable params: 0\n",
      "_________________________________________________________________\n"
     ]
    }
   ],
   "source": [
    "model.summary()"
   ]
  },
  {
   "cell_type": "code",
   "execution_count": 236,
   "metadata": {},
   "outputs": [],
   "source": [
    "hidden1 = model.layers[1]"
   ]
  },
  {
   "cell_type": "code",
   "execution_count": 237,
   "metadata": {},
   "outputs": [],
   "source": [
    "weights, biases = hidden1.get_weights()"
   ]
  },
  {
   "cell_type": "code",
   "execution_count": 238,
   "metadata": {},
   "outputs": [
    {
     "data": {
      "text/plain": [
       "(784, 300)"
      ]
     },
     "execution_count": 238,
     "metadata": {},
     "output_type": "execute_result"
    }
   ],
   "source": [
    "weights.shape"
   ]
  },
  {
   "cell_type": "code",
   "execution_count": 239,
   "metadata": {},
   "outputs": [
    {
     "data": {
      "text/plain": [
       "(300,)"
      ]
     },
     "execution_count": 239,
     "metadata": {},
     "output_type": "execute_result"
    }
   ],
   "source": [
    "biases.shape"
   ]
  },
  {
   "cell_type": "code",
   "execution_count": 240,
   "metadata": {},
   "outputs": [],
   "source": [
    "hidden2 = model.layers[2]"
   ]
  },
  {
   "cell_type": "code",
   "execution_count": 241,
   "metadata": {},
   "outputs": [],
   "source": [
    "weights, biases = hidden2.get_weights()"
   ]
  },
  {
   "cell_type": "code",
   "execution_count": 242,
   "metadata": {},
   "outputs": [
    {
     "data": {
      "text/plain": [
       "(300, 100)"
      ]
     },
     "execution_count": 242,
     "metadata": {},
     "output_type": "execute_result"
    }
   ],
   "source": [
    "weights.shape"
   ]
  },
  {
   "cell_type": "code",
   "execution_count": 243,
   "metadata": {},
   "outputs": [
    {
     "data": {
      "text/plain": [
       "(100,)"
      ]
     },
     "execution_count": 243,
     "metadata": {},
     "output_type": "execute_result"
    }
   ],
   "source": [
    "biases.shape"
   ]
  },
  {
   "cell_type": "code",
   "execution_count": 244,
   "metadata": {},
   "outputs": [],
   "source": [
    "output = model.layers[3]"
   ]
  },
  {
   "cell_type": "code",
   "execution_count": 245,
   "metadata": {},
   "outputs": [],
   "source": [
    "weights, biases = output.get_weights()"
   ]
  },
  {
   "cell_type": "code",
   "execution_count": 246,
   "metadata": {},
   "outputs": [
    {
     "data": {
      "text/plain": [
       "(100, 10)"
      ]
     },
     "execution_count": 246,
     "metadata": {},
     "output_type": "execute_result"
    }
   ],
   "source": [
    "weights.shape"
   ]
  },
  {
   "cell_type": "code",
   "execution_count": 247,
   "metadata": {},
   "outputs": [
    {
     "data": {
      "text/plain": [
       "(10,)"
      ]
     },
     "execution_count": 247,
     "metadata": {},
     "output_type": "execute_result"
    }
   ],
   "source": [
    "biases.shape"
   ]
  },
  {
   "cell_type": "markdown",
   "metadata": {},
   "source": [
    "## 4. Treinando a rede"
   ]
  },
  {
   "cell_type": "code",
   "execution_count": 248,
   "metadata": {},
   "outputs": [],
   "source": [
    "model.compile(loss=\"sparse_categorical_crossentropy\", optimizer=\"sgd\", metrics=[\"accuracy\"])"
   ]
  },
  {
   "cell_type": "markdown",
   "metadata": {},
   "source": [
    "### 4.1. Parâmetros do treino"
   ]
  },
  {
   "cell_type": "code",
   "execution_count": 249,
   "metadata": {},
   "outputs": [
    {
     "name": "stdout",
     "output_type": "stream",
     "text": [
      "Epoch 1/45\n",
      "1719/1719 [==============================] - 5s 2ms/step - loss: 0.6197 - accuracy: 0.8396 - val_loss: 0.3194 - val_accuracy: 0.9124\n",
      "Epoch 2/45\n",
      "1719/1719 [==============================] - 4s 2ms/step - loss: 0.2958 - accuracy: 0.9157 - val_loss: 0.2524 - val_accuracy: 0.9282\n",
      "Epoch 3/45\n",
      "1719/1719 [==============================] - 4s 2ms/step - loss: 0.2422 - accuracy: 0.9305 - val_loss: 0.2114 - val_accuracy: 0.9416\n",
      "Epoch 4/45\n",
      "1719/1719 [==============================] - 4s 2ms/step - loss: 0.2071 - accuracy: 0.9412 - val_loss: 0.1841 - val_accuracy: 0.9516\n",
      "Epoch 5/45\n",
      "1719/1719 [==============================] - 4s 2ms/step - loss: 0.1804 - accuracy: 0.9488 - val_loss: 0.1643 - val_accuracy: 0.9548\n",
      "Epoch 6/45\n",
      "1719/1719 [==============================] - 4s 2ms/step - loss: 0.1594 - accuracy: 0.9552 - val_loss: 0.1466 - val_accuracy: 0.9592\n",
      "Epoch 7/45\n",
      "1719/1719 [==============================] - 4s 2ms/step - loss: 0.1424 - accuracy: 0.9594 - val_loss: 0.1348 - val_accuracy: 0.9648\n",
      "Epoch 8/45\n",
      "1719/1719 [==============================] - 4s 2ms/step - loss: 0.1285 - accuracy: 0.9639 - val_loss: 0.1268 - val_accuracy: 0.9682\n",
      "Epoch 9/45\n",
      "1719/1719 [==============================] - 4s 2ms/step - loss: 0.1169 - accuracy: 0.9670 - val_loss: 0.1171 - val_accuracy: 0.9678\n",
      "Epoch 10/45\n",
      "1719/1719 [==============================] - 4s 2ms/step - loss: 0.1069 - accuracy: 0.9695 - val_loss: 0.1109 - val_accuracy: 0.9718\n",
      "Epoch 11/45\n",
      "1719/1719 [==============================] - 4s 2ms/step - loss: 0.0984 - accuracy: 0.9724 - val_loss: 0.1068 - val_accuracy: 0.9704\n",
      "Epoch 12/45\n",
      "1719/1719 [==============================] - 4s 2ms/step - loss: 0.0906 - accuracy: 0.9749 - val_loss: 0.1008 - val_accuracy: 0.9716\n",
      "Epoch 13/45\n",
      "1719/1719 [==============================] - 4s 2ms/step - loss: 0.0836 - accuracy: 0.9769 - val_loss: 0.0967 - val_accuracy: 0.9732\n",
      "Epoch 14/45\n",
      "1719/1719 [==============================] - 4s 2ms/step - loss: 0.0778 - accuracy: 0.9788 - val_loss: 0.0925 - val_accuracy: 0.9738\n",
      "Epoch 15/45\n",
      "1719/1719 [==============================] - 4s 2ms/step - loss: 0.0721 - accuracy: 0.9805 - val_loss: 0.0922 - val_accuracy: 0.9728\n",
      "Epoch 16/45\n",
      "1719/1719 [==============================] - 4s 2ms/step - loss: 0.0674 - accuracy: 0.9820 - val_loss: 0.0870 - val_accuracy: 0.9754\n",
      "Epoch 17/45\n",
      "1719/1719 [==============================] - 4s 2ms/step - loss: 0.0630 - accuracy: 0.9831 - val_loss: 0.0903 - val_accuracy: 0.9734\n",
      "Epoch 18/45\n",
      "1719/1719 [==============================] - 4s 2ms/step - loss: 0.0587 - accuracy: 0.9840 - val_loss: 0.0831 - val_accuracy: 0.9768\n",
      "Epoch 19/45\n",
      "1719/1719 [==============================] - 4s 2ms/step - loss: 0.0550 - accuracy: 0.9852 - val_loss: 0.0822 - val_accuracy: 0.9770\n",
      "Epoch 20/45\n",
      "1719/1719 [==============================] - 4s 2ms/step - loss: 0.0516 - accuracy: 0.9861 - val_loss: 0.0802 - val_accuracy: 0.9776\n",
      "Epoch 21/45\n",
      "1719/1719 [==============================] - 4s 2ms/step - loss: 0.0485 - accuracy: 0.9873 - val_loss: 0.0777 - val_accuracy: 0.9780\n",
      "Epoch 22/45\n",
      "1719/1719 [==============================] - 4s 2ms/step - loss: 0.0455 - accuracy: 0.9882 - val_loss: 0.0776 - val_accuracy: 0.9778\n",
      "Epoch 23/45\n",
      "1719/1719 [==============================] - 4s 2ms/step - loss: 0.0424 - accuracy: 0.9895 - val_loss: 0.0760 - val_accuracy: 0.9780\n",
      "Epoch 24/45\n",
      "1719/1719 [==============================] - 4s 2ms/step - loss: 0.0401 - accuracy: 0.9897 - val_loss: 0.0754 - val_accuracy: 0.9792\n",
      "Epoch 25/45\n",
      "1719/1719 [==============================] - 4s 2ms/step - loss: 0.0376 - accuracy: 0.9906 - val_loss: 0.0759 - val_accuracy: 0.9780\n",
      "Epoch 26/45\n",
      "1719/1719 [==============================] - 4s 2ms/step - loss: 0.0354 - accuracy: 0.9913 - val_loss: 0.0746 - val_accuracy: 0.9790\n",
      "Epoch 27/45\n",
      "1719/1719 [==============================] - 4s 2ms/step - loss: 0.0335 - accuracy: 0.9920 - val_loss: 0.0740 - val_accuracy: 0.9786\n",
      "Epoch 28/45\n",
      "1719/1719 [==============================] - 4s 2ms/step - loss: 0.0313 - accuracy: 0.9927 - val_loss: 0.0744 - val_accuracy: 0.9792\n",
      "Epoch 29/45\n",
      "1719/1719 [==============================] - 4s 2ms/step - loss: 0.0295 - accuracy: 0.9932 - val_loss: 0.0723 - val_accuracy: 0.9786\n",
      "Epoch 30/45\n",
      "1719/1719 [==============================] - 4s 2ms/step - loss: 0.0278 - accuracy: 0.9937 - val_loss: 0.0712 - val_accuracy: 0.9802\n",
      "Epoch 31/45\n",
      "1719/1719 [==============================] - 4s 2ms/step - loss: 0.0261 - accuracy: 0.9941 - val_loss: 0.0718 - val_accuracy: 0.9802\n",
      "Epoch 32/45\n",
      "1719/1719 [==============================] - 4s 2ms/step - loss: 0.0249 - accuracy: 0.9947 - val_loss: 0.0729 - val_accuracy: 0.9794\n",
      "Epoch 33/45\n",
      "1719/1719 [==============================] - 4s 2ms/step - loss: 0.0235 - accuracy: 0.9951 - val_loss: 0.0752 - val_accuracy: 0.9784\n",
      "Epoch 34/45\n",
      "1719/1719 [==============================] - 4s 2ms/step - loss: 0.0221 - accuracy: 0.9957 - val_loss: 0.0708 - val_accuracy: 0.9800\n",
      "Epoch 35/45\n",
      "1719/1719 [==============================] - 4s 2ms/step - loss: 0.0209 - accuracy: 0.9963 - val_loss: 0.0732 - val_accuracy: 0.9798\n",
      "Epoch 36/45\n",
      "1719/1719 [==============================] - 4s 2ms/step - loss: 0.0197 - accuracy: 0.9963 - val_loss: 0.0717 - val_accuracy: 0.9804\n",
      "Epoch 37/45\n",
      "1719/1719 [==============================] - 4s 2ms/step - loss: 0.0187 - accuracy: 0.9967 - val_loss: 0.0727 - val_accuracy: 0.9796\n",
      "Epoch 38/45\n",
      "1719/1719 [==============================] - 4s 2ms/step - loss: 0.0177 - accuracy: 0.9969 - val_loss: 0.0719 - val_accuracy: 0.9808\n",
      "Epoch 39/45\n",
      "1719/1719 [==============================] - 4s 2ms/step - loss: 0.0168 - accuracy: 0.9974 - val_loss: 0.0722 - val_accuracy: 0.9812\n",
      "Epoch 40/45\n",
      "1719/1719 [==============================] - 4s 2ms/step - loss: 0.0159 - accuracy: 0.9978 - val_loss: 0.0722 - val_accuracy: 0.9794\n",
      "Epoch 41/45\n",
      "1719/1719 [==============================] - 4s 2ms/step - loss: 0.0151 - accuracy: 0.9979 - val_loss: 0.0713 - val_accuracy: 0.9798\n",
      "Epoch 42/45\n",
      "1719/1719 [==============================] - 4s 2ms/step - loss: 0.0143 - accuracy: 0.9979 - val_loss: 0.0729 - val_accuracy: 0.9806\n",
      "Epoch 43/45\n",
      "1719/1719 [==============================] - 4s 2ms/step - loss: 0.0137 - accuracy: 0.9982 - val_loss: 0.0725 - val_accuracy: 0.9808\n",
      "Epoch 44/45\n",
      "1719/1719 [==============================] - 4s 2ms/step - loss: 0.0129 - accuracy: 0.9985 - val_loss: 0.0729 - val_accuracy: 0.9796\n",
      "Epoch 45/45\n",
      "1719/1719 [==============================] - 4s 2ms/step - loss: 0.0122 - accuracy: 0.9985 - val_loss: 0.0728 - val_accuracy: 0.9808\n"
     ]
    }
   ],
   "source": [
    "history = model.fit(X_train, y_train, epochs=45, validation_data=(X_valid, y_valid))"
   ]
  },
  {
   "cell_type": "code",
   "execution_count": 250,
   "metadata": {},
   "outputs": [
    {
     "data": {
      "image/png": "[encoded data removed]",
      "text/plain": [
       "<Figure size 576x360 with 1 Axes>"
      ]
     },
     "metadata": {
      "needs_background": "light"
     },
     "output_type": "display_data"
    }
   ],
   "source": [
    "pd.DataFrame(history.history).plot(figsize=(8, 5))\n",
    "plt.xlabel(\"Número de Épocas de treinamento\")\n",
    "plt.ylabel(\"Desempenho do treinamento\")\n",
    "plt.grid(True)\n",
    "plt.gca().set_ylim(0, 1)\n",
    "plt.show()"
   ]
  },
  {
   "cell_type": "markdown",
   "metadata": {},
   "source": [
    "## 5. Testando o modelo"
   ]
  },
  {
   "cell_type": "code",
   "execution_count": 251,
   "metadata": {},
   "outputs": [
    {
     "name": "stdout",
     "output_type": "stream",
     "text": [
      "313/313 [==============================] - 1s 2ms/step - loss: 0.0643 - accuracy: 0.9809\n"
     ]
    },
    {
     "data": {
      "text/plain": [
       "[0.06428640335798264, 0.98089998960495]"
      ]
     },
     "execution_count": 251,
     "metadata": {},
     "output_type": "execute_result"
    }
   ],
   "source": [
    "model.evaluate(X_test, y_test)"
   ]
  },
  {
   "cell_type": "code",
   "execution_count": 253,
   "metadata": {},
   "outputs": [
    {
     "name": "stdout",
     "output_type": "stream",
     "text": [
      "313/313 [==============================] - 1s 2ms/step\n"
     ]
    }
   ],
   "source": [
    "y_pred = np.argmax(model.predict(X_test), axis=-1)"
   ]
  },
  {
   "cell_type": "code",
   "execution_count": 254,
   "metadata": {},
   "outputs": [
    {
     "name": "stdout",
     "output_type": "stream",
     "text": [
      "Acurácia:  0.9809\n",
      "Kappa:  0.9787690148065891\n",
      "Matriz de confusão: \n",
      " [[ 967    0    2    0    2    2    1    1    4    1]\n",
      " [   0 1128    2    1    0    1    2    0    1    0]\n",
      " [   4    2 1013    4    1    0    1    3    4    0]\n",
      " [   0    1    7  987    0    2    0    3    4    6]\n",
      " [   1    0    6    0  967    0    2    2    0    4]\n",
      " [   2    0    0    9    3  866    4    1    5    2]\n",
      " [   3    3    1    1    4    3  943    0    0    0]\n",
      " [   1    3    8    2    0    0    0 1006    2    6]\n",
      " [   4    0    3    5    4    2    3    2  948    3]\n",
      " [   3    2    0    6    8    3    0    3    0  984]]\n"
     ]
    }
   ],
   "source": [
    "from sklearn.metrics import accuracy_score, confusion_matrix, cohen_kappa_score\n",
    "print('Acurácia: ', accuracy_score(y_test,y_pred))\n",
    "print('Kappa: ', cohen_kappa_score(y_test,y_pred))\n",
    "print('Matriz de confusão: \\n', confusion_matrix(y_test,y_pred))"
   ]
  },
  {
   "cell_type": "markdown",
   "metadata": {},
   "source": [
    "## 6. Salvando o modelo"
   ]
  },
  {
   "cell_type": "code",
   "execution_count": 255,
   "metadata": {},
   "outputs": [],
   "source": [
    "model.save(\"modelo_mlp.h5\")"
   ]
  },
  {
   "cell_type": "code",
   "execution_count": 256,
   "metadata": {},
   "outputs": [],
   "source": [
    "model = keras.models.load_model(\"modelo_mlp.h5\")"
   ]
  },
  {
   "cell_type": "code",
   "execution_count": 257,
   "metadata": {},
   "outputs": [
    {
     "name": "stdout",
     "output_type": "stream",
     "text": [
      "313/313 [==============================] - 1s 2ms/step\n"
     ]
    },
    {
     "data": {
      "text/plain": [
       "array([7, 2, 1, ..., 4, 5, 6], dtype=int64)"
      ]
     },
     "execution_count": 257,
     "metadata": {},
     "output_type": "execute_result"
    }
   ],
   "source": [
    "np.argmax(model.predict(X_test), axis=-1)"
   ]
  },
  {
   "cell_type": "code",
   "execution_count": 258,
   "metadata": {},
   "outputs": [],
   "source": [
    "checkpoint = keras.callbacks.ModelCheckpoint(\"melhor_modelo_mlp.h5\", save_best_only=True)"
   ]
  },
  {
   "cell_type": "code",
   "execution_count": 259,
   "metadata": {},
   "outputs": [
    {
     "name": "stdout",
     "output_type": "stream",
     "text": [
      "Epoch 1/15\n",
      "1719/1719 [==============================] - 5s 3ms/step - loss: 0.0117 - accuracy: 0.9987 - val_loss: 0.0722 - val_accuracy: 0.9806\n",
      "Epoch 2/15\n",
      "1719/1719 [==============================] - 5s 3ms/step - loss: 0.0111 - accuracy: 0.9990 - val_loss: 0.0730 - val_accuracy: 0.9798\n",
      "Epoch 3/15\n",
      "1719/1719 [==============================] - 5s 3ms/step - loss: 0.0106 - accuracy: 0.9989 - val_loss: 0.0743 - val_accuracy: 0.9804\n",
      "Epoch 4/15\n",
      "1719/1719 [==============================] - 4s 2ms/step - loss: 0.0101 - accuracy: 0.9989 - val_loss: 0.0748 - val_accuracy: 0.9800\n",
      "Epoch 5/15\n",
      "1719/1719 [==============================] - 4s 2ms/step - loss: 0.0096 - accuracy: 0.9991 - val_loss: 0.0727 - val_accuracy: 0.9804\n",
      "Epoch 6/15\n",
      "1719/1719 [==============================] - 4s 3ms/step - loss: 0.0093 - accuracy: 0.9992 - val_loss: 0.0742 - val_accuracy: 0.9808\n",
      "Epoch 7/15\n",
      "1719/1719 [==============================] - 4s 3ms/step - loss: 0.0089 - accuracy: 0.9992 - val_loss: 0.0751 - val_accuracy: 0.9796\n",
      "Epoch 8/15\n",
      "1719/1719 [==============================] - 4s 2ms/step - loss: 0.0085 - accuracy: 0.9993 - val_loss: 0.0738 - val_accuracy: 0.9808\n",
      "Epoch 9/15\n",
      "1719/1719 [==============================] - 4s 3ms/step - loss: 0.0080 - accuracy: 0.9995 - val_loss: 0.0730 - val_accuracy: 0.9808\n",
      "Epoch 10/15\n",
      "1719/1719 [==============================] - 4s 3ms/step - loss: 0.0077 - accuracy: 0.9995 - val_loss: 0.0752 - val_accuracy: 0.9804\n",
      "Epoch 11/15\n",
      "1719/1719 [==============================] - 4s 2ms/step - loss: 0.0074 - accuracy: 0.9995 - val_loss: 0.0741 - val_accuracy: 0.9806\n",
      "Epoch 12/15\n",
      "1719/1719 [==============================] - 4s 2ms/step - loss: 0.0071 - accuracy: 0.9995 - val_loss: 0.0754 - val_accuracy: 0.9802\n",
      "Epoch 13/15\n",
      "1719/1719 [==============================] - 4s 2ms/step - loss: 0.0068 - accuracy: 0.9996 - val_loss: 0.0758 - val_accuracy: 0.9808\n",
      "Epoch 14/15\n",
      "1719/1719 [==============================] - 4s 3ms/step - loss: 0.0066 - accuracy: 0.9996 - val_loss: 0.0760 - val_accuracy: 0.9800\n",
      "Epoch 15/15\n",
      "1719/1719 [==============================] - 4s 2ms/step - loss: 0.0063 - accuracy: 0.9997 - val_loss: 0.0759 - val_accuracy: 0.9802\n"
     ]
    }
   ],
   "source": [
    "history = model.fit(X_train, y_train, epochs=15, validation_data=(X_valid, y_valid), callbacks=[checkpoint])"
   ]
  }
 ],
 "metadata": {
  "kernelspec": {
   "display_name": "Python 3.10.3 ('venv': venv)",
   "language": "python",
   "name": "python3"
  },
  "language_info": {
   "codemirror_mode": {
    "name": "ipython",
    "version": 3
   },
   "file_extension": ".py",
   "mimetype": "text/x-python",
   "name": "python",
   "nbconvert_exporter": "python",
   "pygments_lexer": "ipython3",
   "version": "3.10.3"
  },
  "orig_nbformat": 4,
  "vscode": {
   "interpreter": {
    "hash": "f40dbd9680e5f4eccc17a02603062372ddef308179bebee809a210a03989bbd0"
   }
  }
 },
 "nbformat": 4,
 "nbformat_minor": 2
}
